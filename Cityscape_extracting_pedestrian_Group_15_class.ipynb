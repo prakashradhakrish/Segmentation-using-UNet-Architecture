{
  "nbformat": 4,
  "nbformat_minor": 0,
  "metadata": {
    "colab": {
      "name": "Cityscape extracting pedestrian_Group 15 class",
      "provenance": [],
      "collapsed_sections": [
        "AY_q-qHj6szJ",
        "xvKM30vQV0K3"
      ],
      "authorship_tag": "ABX9TyMF2Iji3BNxd28dKYLFFNgB",
      "include_colab_link": true
    },
    "kernelspec": {
      "name": "python3",
      "display_name": "Python 3"
    }
  },
  "cells": [
    {
      "cell_type": "markdown",
      "metadata": {
        "id": "view-in-github",
        "colab_type": "text"
      },
      "source": [
        "<a href=\"https://colab.research.google.com/github/prakashradhakrish/Segmentation-using-UNet-Architecture/blob/master/Cityscape_extracting_pedestrian_Group_15_class.ipynb\" target=\"_parent\"><img src=\"https://colab.research.google.com/assets/colab-badge.svg\" alt=\"Open In Colab\"/></a>"
      ]
    },
    {
      "cell_type": "markdown",
      "metadata": {
        "id": "uL4HxCFzXcqK",
        "colab_type": "text"
      },
      "source": [
        "# **Cityscape pedestrian dataset**#\n",
        "---\n",
        "![alt text](https://drive.google.com/uc?id=1SEoA56Ndy2LvjCN8GL2tgXaoXus22zSp) \n",
        "![alt text](https://drive.google.com/uc?id=1xk1ElHqA9s58MXutjBa4ZX2GsaOWbbxI)\n",
        "![alt text](https://drive.google.com/uc?id=1WRqjw0Kx5pb9QFgI4XF5OlCgWXykHHEw)\n",
        "---\n",
        "\n"
      ]
    },
    {
      "cell_type": "markdown",
      "metadata": {
        "id": "AY_q-qHj6szJ",
        "colab_type": "text"
      },
      "source": [
        "# **Initialisation**"
      ]
    },
    {
      "cell_type": "code",
      "metadata": {
        "id": "dNRxeWkDU4Dy",
        "colab_type": "code",
        "colab": {}
      },
      "source": [
        "import numpy as np\n",
        "import torch\n",
        "import os\n",
        "import fnmatch\n",
        "import re\n",
        "import torchvision\n",
        "import torch.nn as nn\n",
        "import torch.optim as optim\n",
        "import matplotlib.pyplot as plt\n",
        "import torch.nn.functional as func\n",
        "from torch import Tensor\n",
        "import torchvision \n",
        "from torch.optim.lr_scheduler import StepLR\n",
        "from IPython.display import HTML, display\n",
        "from torchvision import transforms,datasets,utils\n",
        "%matplotlib inline\n",
        "from torch.utils.data import DataLoader, TensorDataset\n",
        "import cv2"
      ],
      "execution_count": null,
      "outputs": []
    },
    {
      "cell_type": "markdown",
      "metadata": {
        "id": "xvKM30vQV0K3",
        "colab_type": "text"
      },
      "source": [
        "# **Dataset generation**"
      ]
    },
    {
      "cell_type": "markdown",
      "metadata": {
        "id": "J4offmSbXD9t",
        "colab_type": "text"
      },
      "source": [
        "**Make sure the current directory is chosen**"
      ]
    },
    {
      "cell_type": "code",
      "metadata": {
        "id": "J7yDBIkuVf9V",
        "colab_type": "code",
        "colab": {}
      },
      "source": [
        "datadir_trainimage=\"E:/VE/4th quater/Computer Vision/Project/Notebooks/cityscape/leftImg8bit/val\"\n",
        "datadir_maskimage =\"E:/VE/4th quater/Computer Vision/Project/Notebooks/cityscape/gtFine/val\"\n",
        "\n",
        "\n",
        "## Extracting subdirectories for training image and mask\n",
        "sub_directory_img=[]\n",
        "sub_directory_mask=[]\n",
        "\n",
        "for x in os.walk(datadir_trainimage):\n",
        "    sub_directory_img.append(x[0])\n",
        "    print(x[0])\n",
        "sub_directory_img.pop(0)\n",
        "\n",
        "for x in os.walk(datadir_maskimage):\n",
        "    sub_directory_mask.append(x[0])\n",
        "sub_directory_mask.pop(0)"
      ],
      "execution_count": null,
      "outputs": []
    },
    {
      "cell_type": "markdown",
      "metadata": {
        "id": "-XMWeun3Wb71",
        "colab_type": "text"
      },
      "source": [
        "**Creating Masking images**\n",
        "\n",
        "Extracting the masking information for pedestrian class\n"
      ]
    },
    {
      "cell_type": "code",
      "metadata": {
        "id": "DWWYVDOWVlok",
        "colab_type": "code",
        "colab": {}
      },
      "source": [
        "maskingpath=[]\n",
        "maskingfiles =[]\n",
        "status_mask = 0\n",
        "\n",
        "for sub in sub_directory_mask:\n",
        "    path = \"E:/VE/4th quater/Computer Vision/Project/Notebooks/cityscape/cityscape_400x400/gtFine/val\"\n",
        "    path=path+str('/')+str(os.path.basename(sub))\n",
        "    maskingpath.append(str(path))\n",
        "    try:\n",
        "        os.makedirs(path)\n",
        "    except OSError:\n",
        "        print (\"Creation of the directory %s failed\" % path)\n",
        "    for i,img in enumerate(os.listdir(sub)):\n",
        "        if fnmatch.fnmatch(img,'*labelIds.png'):\n",
        "            img_array =cv2.imread(os.path.join(sub,img),cv2.IMREAD_GRAYSCALE)   \n",
        "            new_array = cv2.resize(img_array,(400,400)) \n",
        "            mask = np.zeros(new_array.shape) # for binary class with pedestrian\n",
        "            if (np.sum(new_array==24)) > 400:\n",
        "                mask[np.where(new_array==24)]=255 \n",
        "                os.chdir(path)\n",
        "                cv2.imwrite(img, np.squeeze([mask]))\n",
        "                maskingfiles.append(img)\n",
        "                status_mask=status_mask+1      \n",
        "    if status_mask%50 == 49:\n",
        "        print(\"Completed images: \" + str(status_mask))  "
      ],
      "execution_count": null,
      "outputs": []
    },
    {
      "cell_type": "markdown",
      "metadata": {
        "id": "1h93HAObW9uH",
        "colab_type": "text"
      },
      "source": [
        "**Creating Target images**"
      ]
    },
    {
      "cell_type": "code",
      "metadata": {
        "id": "y85NxJSMVmfI",
        "colab_type": "code",
        "colab": {}
      },
      "source": [
        "trainingpath=[]\n",
        "trainingfiles =[]\n",
        "status_img = 0\n",
        "\n",
        "for i,sub in enumerate(sub_directory_img):\n",
        "    path = \"E:/VE/4th quater/Computer Vision/Project/Notebooks/cityscape/cityscape_400x400/leftImg8bit/val\"\n",
        "    path=path+str('/')+str(os.path.basename(sub))\n",
        "    trainingpath.append(str(path))\n",
        "    print(str(path))\n",
        "    try:\n",
        "        os.makedirs(path)\n",
        "    except OSError:\n",
        "        print (\"Creation of the directory %s failed\" % path)\n",
        "    for mask_sub in (os.listdir(maskingpath[i])):\n",
        "        img = (re.findall('(.+)_gt', mask_sub)[0]) + str('_leftImg8bit.png')\n",
        "        img_array =cv2.imread(os.path.join(sub,img),cv2.COLOR_RGB2GRAY)\n",
        "        new_array = cv2.resize(img_array,(400,400))\n",
        "        os.chdir(path)\n",
        "        cv2.imwrite(img, np.squeeze([new_array]))\n",
        "        trainingfiles.append(img)\n",
        "        status_img=status_img+1     "
      ],
      "execution_count": null,
      "outputs": []
    }
  ]
}