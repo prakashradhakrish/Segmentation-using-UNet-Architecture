{
  "nbformat": 4,
  "nbformat_minor": 0,
  "metadata": {
    "accelerator": "GPU",
    "colab": {
      "name": "Pedestrian class pennfudan_Group 15.ipynb",
      "provenance": [],
      "collapsed_sections": [
        "1pT0ApanFJ_Z"
      ],
      "toc_visible": true,
      "include_colab_link": true
    },
    "kernelspec": {
      "display_name": "Python 3",
      "language": "python",
      "name": "python3"
    },
    "language_info": {
      "codemirror_mode": {
        "name": "ipython",
        "version": 3
      },
      "file_extension": ".py",
      "mimetype": "text/x-python",
      "name": "python",
      "nbconvert_exporter": "python",
      "pygments_lexer": "ipython3",
      "version": "3.7.3"
    }
  },
  "cells": [
    {
      "cell_type": "markdown",
      "metadata": {
        "id": "view-in-github",
        "colab_type": "text"
      },
      "source": [
        "<a href=\"https://colab.research.google.com/github/prakashradhakrish/Segmentation-using-UNet-Architecture/blob/master/Pedestrian_class_pennfudan_Group_15.ipynb\" target=\"_parent\"><img src=\"https://colab.research.google.com/assets/colab-badge.svg\" alt=\"Open In Colab\"/></a>"
      ]
    },
    {
      "cell_type": "markdown",
      "metadata": {
        "colab_type": "text",
        "id": "gWlREcoGbqll"
      },
      "source": [
        "# **Unet in PennFudan**#\n",
        "\n",
        "---\n",
        "#![alt text](https://drive.google.com/uc?id=1ou4XIG-yUOZUu_A7x66uduoXM-jqqQva)\n",
        "---\n"
      ]
    },
    {
      "cell_type": "markdown",
      "metadata": {
        "id": "AY_q-qHj6szJ",
        "colab_type": "text"
      },
      "source": [
        "# **Initialisation**"
      ]
    },
    {
      "cell_type": "code",
      "metadata": {
        "colab_type": "code",
        "id": "j317gTuj3-ft",
        "colab": {}
      },
      "source": [
        "import numpy as np\n",
        "import torch\n",
        "import os\n",
        "import re\n",
        "import cv2\n",
        "import torchvision\n",
        "import torch.nn as nn\n",
        "import torch.optim as optim\n",
        "import matplotlib.pyplot as plt\n",
        "import torch.nn.functional as func\n",
        "from torch import Tensor\n",
        "from torch.optim.lr_scheduler import StepLR\n",
        "from IPython.display import HTML, display\n",
        "from torchvision import transforms,datasets,utils\n",
        "%matplotlib inline\n",
        "from torch.utils.data import DataLoader, TensorDataset\n"
      ],
      "execution_count": null,
      "outputs": []
    },
    {
      "cell_type": "markdown",
      "metadata": {
        "colab_type": "text",
        "id": "AYSQb2bl7QPI"
      },
      "source": [
        "# **Dataset creation for pedestrian segmentation**"
      ]
    },
    {
      "cell_type": "markdown",
      "metadata": {
        "id": "Pr2rcXCW7ifP",
        "colab_type": "text"
      },
      "source": [
        "**List of steps for creating dataset**\n",
        "\n",
        "*   Liniking the PennFudan train and test image from Google drive\n",
        "*   Resizing the training images to 400x400 size and storing it in training data\n",
        "*   Matching the target mask image to train data and resizing to 400x400 size \n",
        "*   Changing the target mask to train semantic segmentation  from the available instance segmentation mask\n",
        "\n"
      ]
    },
    {
      "cell_type": "code",
      "metadata": {
        "id": "sh3nJZ8e9Pfy",
        "colab_type": "code",
        "colab": {
          "base_uri": "https://localhost:8080/",
          "height": 34
        },
        "outputId": "68a8a6f2-f91a-4395-a5ff-ef2905a8e15e"
      },
      "source": [
        "# Linking the google colab\n",
        "from google.colab import drive\n",
        "drive.mount('/content/drive')"
      ],
      "execution_count": null,
      "outputs": [
        {
          "output_type": "stream",
          "text": [
            "Drive already mounted at /content/drive; to attempt to forcibly remount, call drive.mount(\"/content/drive\", force_remount=True).\n"
          ],
          "name": "stdout"
        }
      ]
    },
    {
      "cell_type": "code",
      "metadata": {
        "id": "6vuE5Ar69IiB",
        "colab_type": "code",
        "colab": {}
      },
      "source": [
        "# Providing the directory for segregating train and mask image\n",
        "datadir_trainimage = \"/content/drive/My Drive/Dataset/PennFudanPed/train/PNGImages\"\n",
        "datadir_testimage = \"/content/drive/My Drive/Dataset/PennFudanPed/train/PedMasks\"\n",
        "\n",
        "# training images\n",
        "trainingdata=[] #empty array for saving training images as numpy array\n",
        "trainingfile=[] #empty array for saving  corresponding training file names as numpy array\n",
        "for img in os.listdir(datadir_trainimage):\n",
        "    trainingfile.append(img)\n",
        "    img_array =cv2.imread(os.path.join(datadir_trainimage,img),cv2.COLOR_RGB2GRAY)\n",
        "    new_array = cv2.resize(img_array,(400,400))   \n",
        "    trainingdata.append(np.squeeze([new_array]))\n",
        "\n",
        "# masking images    \n",
        "maskingdata=[] #empty array for saving target mask images as numpy array\n",
        "maskingfile = [] #empty array for saving  corresponding target mask file names as numpy array\n",
        "for i in range(len(trainingfile)):\n",
        "    img = (trainingfile[i].rsplit('.png', 1)[0])+str(\"_mask.png\")\n",
        "    maskingfile.append(img)\n",
        "    img_array =cv2.imread(os.path.join(datadir_testimage,img),cv2.IMREAD_GRAYSCALE)\n",
        "    new_array = cv2.resize(img_array,(400,400))\n",
        "    new_array[np.where(new_array>0.5)] = 1\n",
        "    maskingdata.append(np.squeeze([new_array]))\n",
        "\n",
        "#Converting into numpy which is easy to compute\n",
        "trainingdata = np.array(trainingdata)\n",
        "maskingdata = np.array(maskingdata)\n",
        "    "
      ],
      "execution_count": null,
      "outputs": []
    },
    {
      "cell_type": "markdown",
      "metadata": {
        "id": "vLWZkUye-ebV",
        "colab_type": "text"
      },
      "source": [
        "*Checking the whether train and test images match with each other....*"
      ]
    },
    {
      "cell_type": "code",
      "metadata": {
        "id": "4AIPlMut_3Tn",
        "colab_type": "code",
        "colab": {
          "base_uri": "https://localhost:8080/",
          "height": 35
        },
        "outputId": "eb59a145-39bf-4d2c-dfb1-18a9e5859677"
      },
      "source": [
        "mask_file = []\n",
        "train_file = []\n",
        "for i in range(len(maskingfile)):\n",
        "  str_mask = re.findall('(.+)_mask',maskingfile[i])\n",
        "  mask_file.append(str_mask)\n",
        "\n",
        "for i in range(len(trainingfile)):\n",
        "  str_mask = re.findall('(.+).png',trainingfile[i])\n",
        "  train_file.append(str_mask)\n",
        "\n",
        "if train_file == mask_file:\n",
        "    print(\"status ok\") \n",
        "else:\n",
        "    print(\"mismatch found\")"
      ],
      "execution_count": null,
      "outputs": [
        {
          "output_type": "stream",
          "text": [
            "status ok\n"
          ],
          "name": "stdout"
        }
      ]
    },
    {
      "cell_type": "markdown",
      "metadata": {
        "colab_type": "text",
        "id": "bJuX2Rf7Ae0Y"
      },
      "source": [
        "*Visualising the masking images.*"
      ]
    },
    {
      "cell_type": "code",
      "metadata": {
        "id": "xHSgxnKZ9IiG",
        "colab_type": "code",
        "colab": {
          "base_uri": "https://localhost:8080/",
          "height": 287
        },
        "outputId": "8129d375-00e2-4641-898f-aaa6d6f1e07b"
      },
      "source": [
        "#plt.imshow(trainingdata[3])\n",
        "plt.imshow(maskingdata[4])\n",
        "plt.show()\n",
        "np.unique(maskingdata[7])"
      ],
      "execution_count": null,
      "outputs": [
        {
          "output_type": "display_data",
          "data": {
            "image/png": "[encoded data removed]",
            "text/plain": [
              "<Figure size 432x288 with 1 Axes>"
            ]
          },
          "metadata": {
            "tags": [],
            "needs_background": "light"
          }
        },
        {
          "output_type": "execute_result",
          "data": {
            "text/plain": [
              "array([0, 1], dtype=uint8)"
            ]
          },
          "metadata": {
            "tags": []
          },
          "execution_count": 6
        }
      ]
    },
    {
      "cell_type": "markdown",
      "metadata": {
        "id": "G_Wachp6-30y",
        "colab_type": "text"
      },
      "source": [
        "**Images in numpy array to data loader pytorch**"
      ]
    },
    {
      "cell_type": "code",
      "metadata": {
        "id": "IQC06PDIyW6I",
        "colab_type": "code",
        "colab": {}
      },
      "source": [
        "# Dataset creation based on new data image\n",
        "\n",
        "# RGB images obtained from CV2 has channel different than expected tensor\n",
        "a = Tensor(trainingdata)\n",
        "trainingdata_tensor = torch.empty(170,3,400,400,dtype=torch.float)\n",
        "for i, img in enumerate(a):\n",
        "    trainingdata_tensor[i,:,:,:] = img.permute(2,0,1)\n",
        "\n",
        "# Converting to tensor dataset\n",
        "dataset_created = TensorDataset(trainingdata_tensor, Tensor(maskingdata))\n",
        "torch.manual_seed(0)\n",
        "train_set, val_set = torch.utils.data.random_split(dataset_created, [150, 20])\n",
        "\n",
        "batch_size = 5\n",
        "\n",
        "# creating data loader for train and test\n",
        "dataloaders = {\n",
        "    'train': DataLoader(train_set, batch_size=batch_size, shuffle=True, num_workers=2),\n",
        "    'test': DataLoader(val_set, batch_size=1, shuffle=True, num_workers=2)\n",
        "    }"
      ],
      "execution_count": null,
      "outputs": []
    },
    {
      "cell_type": "markdown",
      "metadata": {
        "id": "R6yiUosqA8en",
        "colab_type": "text"
      },
      "source": [
        "# **Model creation**#\n",
        "\n",
        "**Input size of image** : (3, 400, 400)\n",
        "\n",
        "**Input type** : Tensor\n",
        "\n",
        "**Output size of image** : (2, 400, 400) -> **Channel information:** pedestrian and background\n",
        "\n",
        "**List of Unet models created for studies. Categorised based on parameters**\n",
        "\n",
        "*   unet_5k - 5,938 parameters\n",
        "*   unet_16k - 16,178 parameters\n",
        "*   unet_50k - 48,018 parameters \n",
        "*   unet_78k - 78,802 parameters\n",
        "*   unet_100k - 138000 parameters \n",
        "*   unet_3M - 3,873,986 parameters\n",
        "*   unet_7M - 7,782,978 parameters"
      ]
    },
    {
      "cell_type": "markdown",
      "metadata": {
        "id": "e-_6GHueWagy",
        "colab_type": "text"
      },
      "source": [
        "**5000 Parameters**"
      ]
    },
    {
      "cell_type": "code",
      "metadata": {
        "id": "WknWTViHWZWd",
        "colab_type": "code",
        "colab": {
          "base_uri": "https://localhost:8080/"
        },
        "outputId": "281ad572-03cf-4230-a283-ef37d8bdcf96"
      },
      "source": [
        "class unet_5k(nn.Module):\n",
        "  def __init__(self):\n",
        "    super(unet_5k,self).__init__()\n",
        "\n",
        "    #Encoder\n",
        "    self.contractinglayer1 = nn.Sequential(nn.Conv2d(3, 8, 3, stride=1, padding=1), nn.ReLU())\n",
        "    self.contractinglayer2 = nn.Sequential(nn.Conv2d(8, 16, 3, stride=1, padding=1), nn.ReLU())\n",
        "    self.downsampling = nn.MaxPool2d(2)\n",
        "\n",
        "    #Decoder\n",
        "    self.upsampling_2to1 = nn.ConvTranspose2d(16, 16, 2,stride=2, padding=0)\n",
        "    self.explayer5 = nn.Sequential(nn.Conv2d(16+8, 16, 3, stride=1, padding=1), nn.ReLU())\n",
        "    self.output_conv = nn.Conv2d(16, 2, 1, stride=1)\n",
        "    \n",
        "\n",
        "  def forward(self, x):\n",
        "      #x = x.view(-1, 128 * 128)\n",
        "      x1 = self.contractinglayer1(x)\n",
        "      x2 = self.downsampling(x1)\n",
        "      x3 = self.contractinglayer2(x2)\n",
        "      x4 = torch.cat([self.upsampling_2to1(x3,output_size=x1.size()), x1], dim=1)\n",
        "      x5 = self.explayer5(x4)\n",
        "      x6 = self.output_conv(x5)\n",
        "      return x6   \n",
        "\n",
        "\n",
        "from torchsummary import summary\n",
        "\n",
        "device = torch.device('cuda' if torch.cuda.is_available() else 'cpu')\n",
        "model = unet_5k()\n",
        "model = model.to(device)\n",
        "\n",
        "summary(model, input_size=(3, 400, 400))"
      ],
      "execution_count": null,
      "outputs": [
        {
          "output_type": "stream",
          "text": [
            "----------------------------------------------------------------\n",
            "        Layer (type)               Output Shape         Param #\n",
            "================================================================\n",
            "            Conv2d-1          [-1, 8, 400, 400]             224\n",
            "              ReLU-2          [-1, 8, 400, 400]               0\n",
            "         MaxPool2d-3          [-1, 8, 200, 200]               0\n",
            "            Conv2d-4         [-1, 16, 200, 200]           1,168\n",
            "              ReLU-5         [-1, 16, 200, 200]               0\n",
            "   ConvTranspose2d-6         [-1, 16, 400, 400]           1,040\n",
            "            Conv2d-7         [-1, 16, 400, 400]           3,472\n",
            "              ReLU-8         [-1, 16, 400, 400]               0\n",
            "            Conv2d-9          [-1, 2, 400, 400]              34\n",
            "================================================================\n",
            "Total params: 5,938\n",
            "Trainable params: 5,938\n",
            "Non-trainable params: 0\n",
            "----------------------------------------------------------------\n",
            "Input size (MB): 1.83\n",
            "Forward/backward pass size (MB): 92.77\n",
            "Params size (MB): 0.02\n",
            "Estimated Total Size (MB): 94.63\n",
            "----------------------------------------------------------------\n"
          ],
          "name": "stdout"
        }
      ]
    },
    {
      "cell_type": "markdown",
      "metadata": {
        "id": "vPd3PsA3eZWa",
        "colab_type": "text"
      },
      "source": [
        "**16k Parameters**"
      ]
    },
    {
      "cell_type": "code",
      "metadata": {
        "id": "c9Va1GVWeFGH",
        "colab_type": "code",
        "colab": {
          "base_uri": "https://localhost:8080/"
        },
        "outputId": "e9375e8e-1d66-4728-ac6d-90aab78af925"
      },
      "source": [
        "class unet_16k(nn.Module):\n",
        "  def __init__(self):\n",
        "    super(unet_16k,self).__init__()\n",
        "\n",
        "    #Encoder\n",
        "    self.contractinglayer1 = nn.Sequential(nn.Conv2d(3, 16, 3, stride=1, padding=1), nn.ReLU())\n",
        "    self.contractinglayer2 = nn.Sequential(nn.Conv2d(16, 32, 3, stride=1, padding=1), nn.ReLU())\n",
        "    self.downsampling = nn.MaxPool2d(2)\n",
        "\n",
        "    #Decoder\n",
        "    self.upsampling_2to1 = nn.ConvTranspose2d(32, 32, 2,stride=2, padding=0)\n",
        "    self.explayer5 = nn.Sequential(nn.Conv2d(32+16, 16, 3, stride=1, padding=1), nn.ReLU())\n",
        "    self.output_conv = nn.Conv2d(16, 2, 1, stride=1)\n",
        "    \n",
        "\n",
        "  def forward(self, x):\n",
        "      #x = x.view(-1, 128 * 128)\n",
        "      x1 = self.contractinglayer1(x)\n",
        "      x2 = self.downsampling(x1)\n",
        "      x3 = self.contractinglayer2(x2)\n",
        "      x4 = torch.cat([self.upsampling_2to1(x3,output_size=x1.size()), x1], dim=1)\n",
        "      x5 = self.explayer5(x4)\n",
        "      x6 = self.output_conv(x5)\n",
        "      return x6   \n",
        "\n",
        "\n",
        "from torchsummary import summary\n",
        "\n",
        "device = torch.device('cuda' if torch.cuda.is_available() else 'cpu')\n",
        "model = unet_16k()\n",
        "model = model.to(device)\n",
        "\n",
        "summary(model, input_size=(3, 400, 400))"
      ],
      "execution_count": null,
      "outputs": [
        {
          "output_type": "stream",
          "text": [
            "----------------------------------------------------------------\n",
            "        Layer (type)               Output Shape         Param #\n",
            "================================================================\n",
            "            Conv2d-1         [-1, 16, 400, 400]             448\n",
            "              ReLU-2         [-1, 16, 400, 400]               0\n",
            "         MaxPool2d-3         [-1, 16, 200, 200]               0\n",
            "            Conv2d-4         [-1, 32, 200, 200]           4,640\n",
            "              ReLU-5         [-1, 32, 200, 200]               0\n",
            "   ConvTranspose2d-6         [-1, 32, 400, 400]           4,128\n",
            "            Conv2d-7         [-1, 16, 400, 400]           6,928\n",
            "              ReLU-8         [-1, 16, 400, 400]               0\n",
            "            Conv2d-9          [-1, 2, 400, 400]              34\n",
            "================================================================\n",
            "Total params: 16,178\n",
            "Trainable params: 16,178\n",
            "Non-trainable params: 0\n",
            "----------------------------------------------------------------\n",
            "Input size (MB): 1.83\n",
            "Forward/backward pass size (MB): 144.04\n",
            "Params size (MB): 0.06\n",
            "Estimated Total Size (MB): 145.94\n",
            "----------------------------------------------------------------\n"
          ],
          "name": "stdout"
        }
      ]
    },
    {
      "cell_type": "markdown",
      "metadata": {
        "id": "SzSw0ZBAXWl_",
        "colab_type": "text"
      },
      "source": [
        "**50kParameters**"
      ]
    },
    {
      "cell_type": "code",
      "metadata": {
        "id": "iB8Woo4iPxEY",
        "colab_type": "code",
        "colab": {
          "base_uri": "https://localhost:8080/"
        },
        "outputId": "c66cdd09-1575-4314-e7ef-8afecd5890e9"
      },
      "source": [
        "class unet_50k(nn.Module):\n",
        "  def __init__(self):\n",
        "    super(unet_50k,self).__init__()\n",
        "\n",
        "    #Encoder\n",
        "    self.contractinglayer1 = nn.Sequential(nn.Conv2d(3, 16, 3, stride=1, padding=1), nn.ReLU())\n",
        "    self.contractinglayer2 = nn.Sequential(nn.Conv2d(16, 32, 3, stride=1, padding=1), nn.ReLU())\n",
        "    self.contractinglayer3 = nn.Sequential(nn.Conv2d(32, 32, 3, stride=1, padding=1), nn.ReLU())\n",
        "    self.downsampling = nn.MaxPool2d(2)\n",
        "\n",
        "    #Decoder\n",
        "    self.upsampling_3to2 = nn.ConvTranspose2d(32, 32, 2,stride=2, padding=0)\n",
        "    self.explayer4 = nn.Sequential(nn.Conv2d(32+32, 32, 3, stride=1, padding=1), nn.ReLU())\n",
        "    self.upsampling_2to1 = nn.ConvTranspose2d(32, 32, 2,stride=2, padding=0)\n",
        "    self.explayer5 = nn.Sequential(nn.Conv2d(32+16, 16, 3, stride=1, padding=1), nn.ReLU())\n",
        "    self.output_conv = nn.Conv2d(16, 2, 1, stride=1)\n",
        "\n",
        "  def forward(self, x):\n",
        "      x1 = self.contractinglayer1(x)\n",
        "      x2 = self.downsampling(x1)\n",
        "      x3 = self.contractinglayer2(x2)\n",
        "      x4 = self.downsampling(x3)\n",
        "      x5 = self.contractinglayer3(x4)\n",
        "      x6 = torch.cat([self.upsampling_3to2(x5,output_size=x3.size()), x3], dim=1)\n",
        "      x7 = self.explayer4(x6)\n",
        "      x8 = torch.cat([self.upsampling_2to1(x7,output_size=x1.size()), x1], dim=1)\n",
        "      x9 = self.explayer5(x8)\n",
        "      x10 = self.output_conv(x9)\n",
        "      return x10   \n",
        "\n",
        "\n",
        "from torchsummary import summary\n",
        "\n",
        "device = torch.device('cuda' if torch.cuda.is_available() else 'cpu')\n",
        "model = unet_50k()\n",
        "model = model.to(device)\n",
        "\n",
        "summary(model, input_size=(3, 400, 400))"
      ],
      "execution_count": null,
      "outputs": [
        {
          "output_type": "stream",
          "text": [
            "----------------------------------------------------------------\n",
            "        Layer (type)               Output Shape         Param #\n",
            "================================================================\n",
            "            Conv2d-1         [-1, 16, 400, 400]             448\n",
            "              ReLU-2         [-1, 16, 400, 400]               0\n",
            "         MaxPool2d-3         [-1, 16, 200, 200]               0\n",
            "            Conv2d-4         [-1, 32, 200, 200]           4,640\n",
            "              ReLU-5         [-1, 32, 200, 200]               0\n",
            "         MaxPool2d-6         [-1, 32, 100, 100]               0\n",
            "            Conv2d-7         [-1, 32, 100, 100]           9,248\n",
            "              ReLU-8         [-1, 32, 100, 100]               0\n",
            "   ConvTranspose2d-9         [-1, 32, 200, 200]           4,128\n",
            "           Conv2d-10         [-1, 32, 200, 200]          18,464\n",
            "             ReLU-11         [-1, 32, 200, 200]               0\n",
            "  ConvTranspose2d-12         [-1, 32, 400, 400]           4,128\n",
            "           Conv2d-13         [-1, 16, 400, 400]           6,928\n",
            "             ReLU-14         [-1, 16, 400, 400]               0\n",
            "           Conv2d-15          [-1, 2, 400, 400]              34\n",
            "================================================================\n",
            "Total params: 48,018\n",
            "Trainable params: 48,018\n",
            "Non-trainable params: 0\n",
            "----------------------------------------------------------------\n",
            "Input size (MB): 1.83\n",
            "Forward/backward pass size (MB): 180.66\n",
            "Params size (MB): 0.18\n",
            "Estimated Total Size (MB): 182.68\n",
            "----------------------------------------------------------------\n"
          ],
          "name": "stdout"
        }
      ]
    },
    {
      "cell_type": "markdown",
      "metadata": {
        "id": "Ejg-p38oe6eZ",
        "colab_type": "text"
      },
      "source": [
        "**78kParameters**"
      ]
    },
    {
      "cell_type": "code",
      "metadata": {
        "id": "XZJYm3JUdz3l",
        "colab_type": "code",
        "colab": {
          "base_uri": "https://localhost:8080/"
        },
        "outputId": "ea3a6c35-f584-4347-8d01-667e93b9e5bd"
      },
      "source": [
        "class unet_78k(nn.Module):\n",
        "  def __init__(self):\n",
        "    super(unet_78k,self).__init__()\n",
        "\n",
        "    #Encoder\n",
        "    self.contractinglayer1 = nn.Sequential(nn.Conv2d(3, 16, 3, stride=1, padding=1), nn.ReLU())\n",
        "    self.contractinglayer2 = nn.Sequential(nn.Conv2d(16, 32, 3, stride=1, padding=1), nn.ReLU())\n",
        "    self.contractinglayer3 = nn.Sequential(nn.Conv2d(32, 64, 3, stride=1, padding=1), nn.ReLU())\n",
        "    self.downsampling = nn.MaxPool2d(2)\n",
        "\n",
        "    #Decoder\n",
        "    self.upsampling_3to2 = nn.ConvTranspose2d(64, 64, 2,stride=2, padding=0)\n",
        "    self.explayer4 = nn.Sequential(nn.Conv2d(64+32, 32, 3, stride=1, padding=1), nn.ReLU())\n",
        "    self.upsampling_2to1 = nn.ConvTranspose2d(32, 32, 2,stride=2, padding=0)\n",
        "    self.explayer5 = nn.Sequential(nn.Conv2d(32+16, 16, 3, stride=1, padding=1), nn.ReLU())\n",
        "    self.output_conv = nn.Conv2d(16, 2, 1, stride=1)\n",
        "\n",
        "  def forward(self, x):\n",
        "      #x = x.view(-1, 128 * 128)\n",
        "      x1 = self.contractinglayer1(x)\n",
        "      x2 = self.downsampling(x1)\n",
        "      x3 = self.contractinglayer2(x2)\n",
        "      x4 = self.downsampling(x3)\n",
        "      x5 = self.contractinglayer3(x4)\n",
        "      x6 = torch.cat([self.upsampling_3to2(x5,output_size=x3.size()), x3], dim=1)\n",
        "      x7 = self.explayer4(x6)\n",
        "      x8 = torch.cat([self.upsampling_2to1(x7,output_size=x1.size()), x1], dim=1)\n",
        "      x9 = self.explayer5(x8)\n",
        "      x10 = self.output_conv(x9)\n",
        "      return x10   \n",
        "\n",
        "from torchsummary import summary\n",
        "\n",
        "device = torch.device('cuda' if torch.cuda.is_available() else 'cpu')\n",
        "model = unet_78k()\n",
        "model = model.to(device)\n",
        "\n",
        "summary(model, input_size=(3, 400, 400))"
      ],
      "execution_count": null,
      "outputs": [
        {
          "output_type": "stream",
          "text": [
            "----------------------------------------------------------------\n",
            "        Layer (type)               Output Shape         Param #\n",
            "================================================================\n",
            "            Conv2d-1         [-1, 16, 400, 400]             448\n",
            "              ReLU-2         [-1, 16, 400, 400]               0\n",
            "         MaxPool2d-3         [-1, 16, 200, 200]               0\n",
            "            Conv2d-4         [-1, 32, 200, 200]           4,640\n",
            "              ReLU-5         [-1, 32, 200, 200]               0\n",
            "         MaxPool2d-6         [-1, 32, 100, 100]               0\n",
            "            Conv2d-7         [-1, 64, 100, 100]          18,496\n",
            "              ReLU-8         [-1, 64, 100, 100]               0\n",
            "   ConvTranspose2d-9         [-1, 64, 200, 200]          16,448\n",
            "           Conv2d-10         [-1, 32, 200, 200]          27,680\n",
            "             ReLU-11         [-1, 32, 200, 200]               0\n",
            "  ConvTranspose2d-12         [-1, 32, 400, 400]           4,128\n",
            "           Conv2d-13         [-1, 16, 400, 400]           6,928\n",
            "             ReLU-14         [-1, 16, 400, 400]               0\n",
            "           Conv2d-15          [-1, 2, 400, 400]              34\n",
            "================================================================\n",
            "Total params: 78,802\n",
            "Trainable params: 78,802\n",
            "Non-trainable params: 0\n",
            "----------------------------------------------------------------\n",
            "Input size (MB): 1.83\n",
            "Forward/backward pass size (MB): 195.31\n",
            "Params size (MB): 0.30\n",
            "Estimated Total Size (MB): 197.44\n",
            "----------------------------------------------------------------\n"
          ],
          "name": "stdout"
        }
      ]
    },
    {
      "cell_type": "markdown",
      "metadata": {
        "id": "Un1pLjyAYIWh",
        "colab_type": "text"
      },
      "source": [
        "**100kParameters** - 0.01M"
      ]
    },
    {
      "cell_type": "code",
      "metadata": {
        "id": "Y2n0TyADw9dV",
        "colab_type": "code",
        "colab": {
          "base_uri": "https://localhost:8080/"
        },
        "outputId": "0dc91593-a8d0-4dd0-f806-5e1038ae7e80"
      },
      "source": [
        "class unet_100k(nn.Module):\n",
        "  def __init__(self):\n",
        "    super(unet_100k,self).__init__()\n",
        "\n",
        "    #Encoder\n",
        "    self.contractinglayer1 = nn.Sequential(nn.Conv2d(3, 16, 3, stride=1, padding=1), nn.ReLU(), nn.Conv2d(16, 16, 3, stride=1, padding=1), nn.ReLU())\n",
        "    self.contractinglayer2 = nn.Sequential(nn.Conv2d(16, 32, 3, stride=1, padding=1), nn.ReLU(), nn.Conv2d(32, 32, 3, stride=1, padding=1), nn.ReLU())\n",
        "    self.contractinglayer3 = nn.Sequential(nn.Conv2d(32, 64, 3, stride=1, padding=1), nn.ReLU(), nn.Conv2d(64, 64, 3, stride=1, padding=1), nn.ReLU())\n",
        "    self.downsampling = nn.MaxPool2d(2)\n",
        "\n",
        "    #Decoder\n",
        "    self.upsampling_3to2 = nn.ConvTranspose2d(64, 64, 2,stride=2, padding=0)\n",
        "    self.explayer4 = nn.Sequential(nn.Conv2d(64+32, 32, 3, stride=1, padding=1), nn.ReLU(), nn.Conv2d(32, 32, 3, stride=1, padding=1), nn.ReLU())\n",
        "    self.upsampling_2to1 = nn.ConvTranspose2d(32, 32, 2,stride=2, padding=0)\n",
        "    self.explayer5 = nn.Sequential(nn.Conv2d(32+16, 16, 3, stride=1, padding=1), nn.ReLU(), nn.Conv2d(16, 16, 3, stride=1, padding=1), nn.ReLU())\n",
        "    self.output_conv = nn.Conv2d(16, 2, 1, stride=1)\n",
        "\n",
        "  def forward(self, x):\n",
        "      x1 = self.contractinglayer1(x)\n",
        "      x2 = self.downsampling(x1)\n",
        "      x3 = self.contractinglayer2(x2)\n",
        "      x4 = self.downsampling(x3)\n",
        "      x5 = self.contractinglayer3(x4)\n",
        "      x6 = torch.cat([self.upsampling_3to2(x5,output_size=x3.size()), x3], dim=1)\n",
        "      x7 = self.explayer4(x6)\n",
        "      x8 = torch.cat([self.upsampling_2to1(x7,output_size=x1.size()), x1], dim=1)\n",
        "      x9 = self.explayer5(x8)\n",
        "      x10 = self.output_conv(x9)\n",
        "      return x10   \n",
        "\n",
        "\n",
        "from torchsummary import summary\n",
        "\n",
        "device = torch.device('cuda' if torch.cuda.is_available() else 'cpu')\n",
        "model = unet_100k()\n",
        "model = model.to(device)\n",
        "\n",
        "summary(model, input_size=(3, 400, 400))"
      ],
      "execution_count": null,
      "outputs": [
        {
          "output_type": "stream",
          "text": [
            "----------------------------------------------------------------\n",
            "        Layer (type)               Output Shape         Param #\n",
            "================================================================\n",
            "            Conv2d-1         [-1, 16, 400, 400]             448\n",
            "              ReLU-2         [-1, 16, 400, 400]               0\n",
            "            Conv2d-3         [-1, 16, 400, 400]           2,320\n",
            "              ReLU-4         [-1, 16, 400, 400]               0\n",
            "         MaxPool2d-5         [-1, 16, 200, 200]               0\n",
            "            Conv2d-6         [-1, 32, 200, 200]           4,640\n",
            "              ReLU-7         [-1, 32, 200, 200]               0\n",
            "            Conv2d-8         [-1, 32, 200, 200]           9,248\n",
            "              ReLU-9         [-1, 32, 200, 200]               0\n",
            "        MaxPool2d-10         [-1, 32, 100, 100]               0\n",
            "           Conv2d-11         [-1, 64, 100, 100]          18,496\n",
            "             ReLU-12         [-1, 64, 100, 100]               0\n",
            "           Conv2d-13         [-1, 64, 100, 100]          36,928\n",
            "             ReLU-14         [-1, 64, 100, 100]               0\n",
            "  ConvTranspose2d-15         [-1, 64, 200, 200]          16,448\n",
            "           Conv2d-16         [-1, 32, 200, 200]          27,680\n",
            "             ReLU-17         [-1, 32, 200, 200]               0\n",
            "           Conv2d-18         [-1, 32, 200, 200]           9,248\n",
            "             ReLU-19         [-1, 32, 200, 200]               0\n",
            "  ConvTranspose2d-20         [-1, 32, 400, 400]           4,128\n",
            "           Conv2d-21         [-1, 16, 400, 400]           6,928\n",
            "             ReLU-22         [-1, 16, 400, 400]               0\n",
            "           Conv2d-23         [-1, 16, 400, 400]           2,320\n",
            "             ReLU-24         [-1, 16, 400, 400]               0\n",
            "           Conv2d-25          [-1, 2, 400, 400]              34\n",
            "================================================================\n",
            "Total params: 138,866\n",
            "Trainable params: 138,866\n",
            "Non-trainable params: 0\n",
            "----------------------------------------------------------------\n",
            "Input size (MB): 1.83\n",
            "Forward/backward pass size (MB): 322.27\n",
            "Params size (MB): 0.53\n",
            "Estimated Total Size (MB): 324.63\n",
            "----------------------------------------------------------------\n"
          ],
          "name": "stdout"
        }
      ]
    },
    {
      "cell_type": "markdown",
      "metadata": {
        "id": "v_CudyHjYzDr",
        "colab_type": "text"
      },
      "source": [
        "**3 Million parameters**"
      ]
    },
    {
      "cell_type": "code",
      "metadata": {
        "id": "_lttnXaXYzQd",
        "colab_type": "code",
        "colab": {
          "base_uri": "https://localhost:8080/"
        },
        "outputId": "d565d52f-f706-41bd-eb39-37a3e38ed287"
      },
      "source": [
        "def double_conv(in_channels, out_channels):\n",
        "    return nn.Sequential(\n",
        "        nn.Conv2d(in_channels, out_channels, 3, padding=1),\n",
        "        nn.ReLU(inplace=True),\n",
        "    )   \n",
        "\n",
        "\n",
        "class UNet_3M(nn.Module):\n",
        "\n",
        "    def __init__(self):\n",
        "        super().__init__()\n",
        "                \n",
        "        self.dconv_down1 = double_conv(3, 64)\n",
        "        self.dconv_down2 = double_conv(64, 128)\n",
        "        self.dconv_down3 = double_conv(128, 256)\n",
        "        self.dconv_down4 = double_conv(256, 512)        \n",
        "\n",
        "        self.maxpool = nn.MaxPool2d(2,stride=2)\n",
        "        self.upsample = nn.Upsample(scale_factor=2, mode='bilinear', align_corners=True)        \n",
        "        \n",
        "        self.dconv_up3 = double_conv(256 + 512, 256)\n",
        "        self.dconv_up2 = double_conv(128 + 256, 128)\n",
        "        self.dconv_up1 = double_conv(128 + 64, 64)\n",
        "        \n",
        "        self.conv_last = nn.Conv2d(64, 2, 1,stride=1)\n",
        "        \n",
        "        \n",
        "    def forward(self, x):\n",
        "        conv1 = self.dconv_down1(x)\n",
        "        x = self.maxpool(conv1)\n",
        "\n",
        "        conv2 = self.dconv_down2(x)\n",
        "        x = self.maxpool(conv2)\n",
        "        \n",
        "        conv3 = self.dconv_down3(x)\n",
        "        x = self.maxpool(conv3)   \n",
        "        \n",
        "        x = self.dconv_down4(x)\n",
        "        \n",
        "        x = self.upsample(x)        \n",
        "        x = torch.cat([x, conv3], dim=1)\n",
        "        \n",
        "        x = self.dconv_up3(x)\n",
        "        x = self.upsample(x)        \n",
        "        x = torch.cat([x, conv2], dim=1)       \n",
        "\n",
        "        x = self.dconv_up2(x)\n",
        "        x = self.upsample(x)        \n",
        "        x = torch.cat([x, conv1], dim=1)   \n",
        "        \n",
        "        x = self.dconv_up1(x)\n",
        "        \n",
        "        out = self.conv_last(x)\n",
        "        \n",
        "        return out\n",
        "\n",
        "\n",
        "from torchsummary import summary\n",
        "\n",
        "device = torch.device('cuda' if torch.cuda.is_available() else 'cpu')\n",
        "model = UNet_3M()\n",
        "model = model.to(device)\n",
        "\n",
        "summary(model, input_size=(3, 400, 400))"
      ],
      "execution_count": null,
      "outputs": [
        {
          "output_type": "stream",
          "text": [
            "----------------------------------------------------------------\n",
            "        Layer (type)               Output Shape         Param #\n",
            "================================================================\n",
            "            Conv2d-1         [-1, 64, 400, 400]           1,792\n",
            "              ReLU-2         [-1, 64, 400, 400]               0\n",
            "         MaxPool2d-3         [-1, 64, 200, 200]               0\n",
            "            Conv2d-4        [-1, 128, 200, 200]          73,856\n",
            "              ReLU-5        [-1, 128, 200, 200]               0\n",
            "         MaxPool2d-6        [-1, 128, 100, 100]               0\n",
            "            Conv2d-7        [-1, 256, 100, 100]         295,168\n",
            "              ReLU-8        [-1, 256, 100, 100]               0\n",
            "         MaxPool2d-9          [-1, 256, 50, 50]               0\n",
            "           Conv2d-10          [-1, 512, 50, 50]       1,180,160\n",
            "             ReLU-11          [-1, 512, 50, 50]               0\n",
            "         Upsample-12        [-1, 512, 100, 100]               0\n",
            "           Conv2d-13        [-1, 256, 100, 100]       1,769,728\n",
            "             ReLU-14        [-1, 256, 100, 100]               0\n",
            "         Upsample-15        [-1, 256, 200, 200]               0\n",
            "           Conv2d-16        [-1, 128, 200, 200]         442,496\n",
            "             ReLU-17        [-1, 128, 200, 200]               0\n",
            "         Upsample-18        [-1, 128, 400, 400]               0\n",
            "           Conv2d-19         [-1, 64, 400, 400]         110,656\n",
            "             ReLU-20         [-1, 64, 400, 400]               0\n",
            "           Conv2d-21          [-1, 2, 400, 400]             130\n",
            "================================================================\n",
            "Total params: 3,873,986\n",
            "Trainable params: 3,873,986\n",
            "Non-trainable params: 0\n",
            "----------------------------------------------------------------\n",
            "Input size (MB): 1.83\n",
            "Forward/backward pass size (MB): 876.46\n",
            "Params size (MB): 14.78\n",
            "Estimated Total Size (MB): 893.07\n",
            "----------------------------------------------------------------\n"
          ],
          "name": "stdout"
        }
      ]
    },
    {
      "cell_type": "markdown",
      "metadata": {
        "id": "HZ_ufIS0bGoN",
        "colab_type": "text"
      },
      "source": [
        "**7 Million parameters**\n"
      ]
    },
    {
      "cell_type": "code",
      "metadata": {
        "colab_type": "code",
        "id": "Y71BdxMLGRmB",
        "colab": {
          "base_uri": "https://localhost:8080/"
        },
        "outputId": "3c206103-3713-4660-d4b0-df9f2ad84340"
      },
      "source": [
        "def double_conv(in_channels, out_channels):\n",
        "    return nn.Sequential(\n",
        "        nn.Conv2d(in_channels, out_channels, 3, padding=1),\n",
        "        nn.ReLU(inplace=True),\n",
        "        nn.Conv2d(out_channels, out_channels, 3, padding=1),\n",
        "        nn.ReLU(inplace=True)\n",
        "    )   \n",
        "\n",
        "\n",
        "class UNet_7M(nn.Module):\n",
        "\n",
        "    def __init__(self):\n",
        "        super().__init__()\n",
        "                \n",
        "        self.dconv_down1 = double_conv(3, 64)\n",
        "        self.dconv_down2 = double_conv(64, 128)\n",
        "        self.dconv_down3 = double_conv(128, 256)\n",
        "        self.dconv_down4 = double_conv(256, 512)        \n",
        "\n",
        "        self.maxpool = nn.MaxPool2d(2,stride=2)\n",
        "        self.upsample = nn.Upsample(scale_factor=2, mode='bilinear', align_corners=True)        \n",
        "        \n",
        "        self.dconv_up3 = double_conv(256 + 512, 256)\n",
        "        self.dconv_up2 = double_conv(128 + 256, 128)\n",
        "        self.dconv_up1 = double_conv(128 + 64, 64)\n",
        "        \n",
        "        self.conv_last = nn.Conv2d(64, 2, 1,stride=1)\n",
        "        \n",
        "        \n",
        "    def forward(self, x):\n",
        "        conv1 = self.dconv_down1(x)\n",
        "        x = self.maxpool(conv1)\n",
        "\n",
        "        conv2 = self.dconv_down2(x)\n",
        "        x = self.maxpool(conv2)\n",
        "        \n",
        "        conv3 = self.dconv_down3(x)\n",
        "        x = self.maxpool(conv3)   \n",
        "        \n",
        "        x = self.dconv_down4(x)\n",
        "        \n",
        "        x = self.upsample(x)        \n",
        "        x = torch.cat([x, conv3], dim=1)\n",
        "        \n",
        "        x = self.dconv_up3(x)\n",
        "        x = self.upsample(x)        \n",
        "        x = torch.cat([x, conv2], dim=1)       \n",
        "\n",
        "        x = self.dconv_up2(x)\n",
        "        x = self.upsample(x)        \n",
        "        x = torch.cat([x, conv1], dim=1)   \n",
        "        \n",
        "        x = self.dconv_up1(x)\n",
        "        \n",
        "        out = self.conv_last(x)\n",
        "        \n",
        "        return out\n",
        "\n",
        "\n",
        "from torchsummary import summary\n",
        "\n",
        "device = torch.device('cuda' if torch.cuda.is_available() else 'cpu')\n",
        "model = UNet_7M()\n",
        "model = model.to(device)\n",
        "\n",
        "summary(model, input_size=(3, 400, 400))"
      ],
      "execution_count": null,
      "outputs": [
        {
          "output_type": "stream",
          "text": [
            "----------------------------------------------------------------\n",
            "        Layer (type)               Output Shape         Param #\n",
            "================================================================\n",
            "            Conv2d-1         [-1, 64, 400, 400]           1,792\n",
            "              ReLU-2         [-1, 64, 400, 400]               0\n",
            "            Conv2d-3         [-1, 64, 400, 400]          36,928\n",
            "              ReLU-4         [-1, 64, 400, 400]               0\n",
            "         MaxPool2d-5         [-1, 64, 200, 200]               0\n",
            "            Conv2d-6        [-1, 128, 200, 200]          73,856\n",
            "              ReLU-7        [-1, 128, 200, 200]               0\n",
            "            Conv2d-8        [-1, 128, 200, 200]         147,584\n",
            "              ReLU-9        [-1, 128, 200, 200]               0\n",
            "        MaxPool2d-10        [-1, 128, 100, 100]               0\n",
            "           Conv2d-11        [-1, 256, 100, 100]         295,168\n",
            "             ReLU-12        [-1, 256, 100, 100]               0\n",
            "           Conv2d-13        [-1, 256, 100, 100]         590,080\n",
            "             ReLU-14        [-1, 256, 100, 100]               0\n",
            "        MaxPool2d-15          [-1, 256, 50, 50]               0\n",
            "           Conv2d-16          [-1, 512, 50, 50]       1,180,160\n",
            "             ReLU-17          [-1, 512, 50, 50]               0\n",
            "           Conv2d-18          [-1, 512, 50, 50]       2,359,808\n",
            "             ReLU-19          [-1, 512, 50, 50]               0\n",
            "         Upsample-20        [-1, 512, 100, 100]               0\n",
            "           Conv2d-21        [-1, 256, 100, 100]       1,769,728\n",
            "             ReLU-22        [-1, 256, 100, 100]               0\n",
            "           Conv2d-23        [-1, 256, 100, 100]         590,080\n",
            "             ReLU-24        [-1, 256, 100, 100]               0\n",
            "         Upsample-25        [-1, 256, 200, 200]               0\n",
            "           Conv2d-26        [-1, 128, 200, 200]         442,496\n",
            "             ReLU-27        [-1, 128, 200, 200]               0\n",
            "           Conv2d-28        [-1, 128, 200, 200]         147,584\n",
            "             ReLU-29        [-1, 128, 200, 200]               0\n",
            "         Upsample-30        [-1, 128, 400, 400]               0\n",
            "           Conv2d-31         [-1, 64, 400, 400]         110,656\n",
            "             ReLU-32         [-1, 64, 400, 400]               0\n",
            "           Conv2d-33         [-1, 64, 400, 400]          36,928\n",
            "             ReLU-34         [-1, 64, 400, 400]               0\n",
            "           Conv2d-35          [-1, 2, 400, 400]             130\n",
            "================================================================\n",
            "Total params: 7,782,978\n",
            "Trainable params: 7,782,978\n",
            "Non-trainable params: 0\n",
            "----------------------------------------------------------------\n",
            "Input size (MB): 1.83\n",
            "Forward/backward pass size (MB): 1442.87\n",
            "Params size (MB): 29.69\n",
            "Estimated Total Size (MB): 1474.39\n",
            "----------------------------------------------------------------\n"
          ],
          "name": "stdout"
        }
      ]
    },
    {
      "cell_type": "markdown",
      "metadata": {
        "id": "1pT0ApanFJ_Z",
        "colab_type": "text"
      },
      "source": [
        "# **Information to be set**\n",
        "\n",
        "Requires input from the user"
      ]
    },
    {
      "cell_type": "code",
      "metadata": {
        "id": "wfMgSTnNcA_A",
        "colab_type": "code",
        "colab": {}
      },
      "source": [
        "picking_architecture = 6 #required user input to choose architecture from 0 to 6\n",
        "n_class =2 # enter the number of class here\n",
        "num_epochs =50 # enter number of epochs\n",
        "\n",
        "unetslist = [unet_5k(),unet_16k(),unet_50k(),unet_78k(),unet_100k(),UNet_3M(),UNet_7M()] # to select the model to train\n",
        "unetsavelist = [\"unet_5k.pth\",\"unet_16k.pth\",\"unet_50k.pth\",\"unet_78k.pth\",\"unet_100k.pth\",\"UNet_3M.pth\",\"UNet_7M.pth\"] # to save the model"
      ],
      "execution_count": null,
      "outputs": []
    },
    {
      "cell_type": "markdown",
      "metadata": {
        "id": "wCaHcT5FGJ2A",
        "colab_type": "text"
      },
      "source": [
        "**Load the pretrained dataset here if available**\n",
        "\n",
        "**Note:**\n",
        "\n",
        "* Ensure the directory is correct to search the .pth file\n",
        "* Ensure correct name for .pth file matching the choosen model architecture\n",
        "* If architecture matched we will see: **All keys matched successfully**"
      ]
    },
    {
      "cell_type": "code",
      "metadata": {
        "id": "GhLoDAoucKMO",
        "colab_type": "code",
        "colab": {
          "base_uri": "https://localhost:8080/",
          "height": 35
        },
        "outputId": "54da69f4-062f-4fdf-c9ee-b83e88ebac82"
      },
      "source": [
        "unet.load_state_dict(torch.load(os.path.join(\"/content/drive/My Drive/Dataset/cityscape_400x400/\",\"UNet_7M_city.pth\")))"
      ],
      "execution_count": null,
      "outputs": [
        {
          "output_type": "execute_result",
          "data": {
            "text/plain": [
              "<All keys matched successfully>"
            ]
          },
          "metadata": {
            "tags": []
          },
          "execution_count": 24
        }
      ]
    },
    {
      "cell_type": "markdown",
      "metadata": {
        "id": "z31m_r5bdCdr",
        "colab_type": "text"
      },
      "source": [
        "**Function for splitting the masking labels to channel required for training**"
      ]
    },
    {
      "cell_type": "code",
      "metadata": {
        "id": "P3z1-9979Ii1",
        "colab_type": "code",
        "colab": {}
      },
      "source": [
        "def label_split(labels,targetimage,n_class):\n",
        "  for i in range(n_class):\n",
        "    if i==0:\n",
        "      labels[:,0,:,:] = (targetimage== 0)==1\n",
        "    else:\n",
        "        labels[:,i,:,:] = (targetimage!= i)==0\n",
        "  return labels\n"
      ],
      "execution_count": null,
      "outputs": []
    },
    {
      "cell_type": "markdown",
      "metadata": {
        "colab_type": "text",
        "id": "4I24zkUtiC2z"
      },
      "source": [
        "# **Loss function**\n",
        "\n",
        "**Using Dice loss with BCE loss**"
      ]
    },
    {
      "cell_type": "markdown",
      "metadata": {
        "id": "GPDjEYWyFqGk",
        "colab_type": "text"
      },
      "source": [
        "**Dice loss function**"
      ]
    },
    {
      "cell_type": "code",
      "metadata": {
        "id": "WE55kSZOdy4P",
        "colab_type": "code",
        "colab": {}
      },
      "source": [
        "def dice_loss(pred, target, smooth = 1.):\n",
        "    pred = pred.contiguous()\n",
        "    target = target.contiguous()    \n",
        "\n",
        "    intersection = (pred * target).sum(dim=2).sum(dim=2)\n",
        "    \n",
        "    loss = (1 - ((2. * intersection + smooth) / (pred.sum(dim=2).sum(dim=2) + target.sum(dim=2).sum(dim=2) + smooth)))\n",
        "    \n",
        "    return loss.mean()"
      ],
      "execution_count": null,
      "outputs": []
    },
    {
      "cell_type": "markdown",
      "metadata": {
        "id": "Nogu36xbF1Sb",
        "colab_type": "text"
      },
      "source": [
        "**Combining Dice loss with Binary cross entropy loss**"
      ]
    },
    {
      "cell_type": "code",
      "metadata": {
        "colab_type": "code",
        "id": "Li3KfDCO7Hj0",
        "colab": {}
      },
      "source": [
        "from collections import defaultdict\n",
        "dtype = torch.cuda.FloatTensor if torch.cuda.is_available() else torch.FloatTensor\n",
        "\n",
        "def calc_loss(pred, target, bce_weight=0.5):\n",
        "    bce = func.binary_cross_entropy_with_logits(pred, target).type(dtype)\n",
        "\n",
        "    pred = torch.sigmoid(pred).type(dtype)\n",
        "    dice = dice_loss(pred, target)\n",
        "\n",
        "    loss = bce * bce_weight + dice * (1 - bce_weight)\n",
        "    \n",
        "    return loss"
      ],
      "execution_count": null,
      "outputs": []
    },
    {
      "cell_type": "markdown",
      "metadata": {
        "colab_type": "text",
        "id": "PVQNAWAzuAcg"
      },
      "source": [
        "# **Optimizer**"
      ]
    },
    {
      "cell_type": "code",
      "metadata": {
        "colab_type": "code",
        "id": "2yPl3bd5unlC",
        "colab": {
          "base_uri": "https://localhost:8080/",
          "height": 35
        },
        "outputId": "2cdd1546-f8a4-4110-ae3e-3984c810e680"
      },
      "source": [
        "unet = unetslist[picking_architecture]\n",
        "print(\"Architecture choosen with parameters: \" + str(sum(p.numel() for p in unet.parameters())))\n",
        "gpu_available = torch.cuda.is_available() \n",
        "if gpu_available:\n",
        "    unet = unet.cuda()\n",
        "    \n",
        "optimizer = torch.optim.Adam(filter(lambda p: p.requires_grad, unet.parameters()), lr=1e-4)\n",
        "scheduler = torch.optim.lr_scheduler.StepLR(optimizer, step_size=30, gamma=0.1)\n"
      ],
      "execution_count": null,
      "outputs": [
        {
          "output_type": "stream",
          "text": [
            "Architecture choosen with parameters: 7782978\n"
          ],
          "name": "stdout"
        }
      ]
    },
    {
      "cell_type": "markdown",
      "metadata": {
        "colab_type": "text",
        "id": "uO9XD-PmvnZN"
      },
      "source": [
        "# **Training**"
      ]
    },
    {
      "cell_type": "code",
      "metadata": {
        "colab_type": "code",
        "id": "Qc_y4T9mvqPJ",
        "colab": {
          "base_uri": "https://localhost:8080/",
          "height": 1000
        },
        "outputId": "e08ade60-260d-41fa-b0d9-9913b2be02f8"
      },
      "source": [
        "loss_values =[]\n",
        "running_loss = 0.0\n",
        "\n",
        "for epoch in range(num_epochs):  # loop over the dataset multiple times\n",
        "    print('Epoch {}/{}'.format(epoch, num_epochs - 1))\n",
        "    print('-' * 10)\n",
        "\n",
        "\n",
        "    scheduler.step()\n",
        "    for param_group in optimizer.param_groups:\n",
        "      print(\"LR\", param_group['lr'])\n",
        "\n",
        "    for i, data in enumerate(dataloaders['train']):\n",
        "        inputimage, targetimage = data\n",
        "        \n",
        "        if gpu_available:\n",
        "            inputimage = inputimage.cuda()\n",
        "\n",
        "        optimizer.zero_grad()\n",
        "\n",
        "        # forward + backward + optimize\n",
        "        outputs = unet(inputimage)\n",
        "        \n",
        "\n",
        "        labels = torch.empty_like(outputs)\n",
        "        lab_channel = (label_split(labels,targetimage,n_class)).cuda()\n",
        "\n",
        "\n",
        "        loss = calc_loss(outputs,lab_channel)\n",
        "\n",
        "        #loss += lmbd * reg_loss\n",
        "        loss.backward()\n",
        "        optimizer.step()\n",
        "\n",
        "        # print statistics\n",
        "        running_loss += loss.item()\n",
        "        \n",
        "        if i % 10 == 9:\n",
        "            print('[%d, %5d] loss: %.10f' %(epoch + 1, i + 1, running_loss / 100))\n",
        "            loss_values.append(running_loss / 170)\n",
        "            running_loss = 0.0\n"
      ],
      "execution_count": null,
      "outputs": [
        {
          "output_type": "stream",
          "text": [
            "Epoch 0/49\n",
            "----------\n",
            "LR 1e-05\n",
            "[1,    10] loss: 0.0113062519\n",
            "[1,    20] loss: 0.0112191048\n",
            "[1,    30] loss: 0.0116800635\n",
            "Epoch 1/49\n",
            "----------\n",
            "LR 1e-05\n",
            "[2,    10] loss: 0.0127971911\n",
            "[2,    20] loss: 0.0105508323\n",
            "[2,    30] loss: 0.0103476489\n",
            "Epoch 2/49\n",
            "----------\n",
            "LR 1e-05\n",
            "[3,    10] loss: 0.0105106340\n",
            "[3,    20] loss: 0.0103248561\n",
            "[3,    30] loss: 0.0127736267\n",
            "Epoch 3/49\n",
            "----------\n",
            "LR 1e-05\n",
            "[4,    10] loss: 0.0117294184\n",
            "[4,    20] loss: 0.0109481320\n",
            "[4,    30] loss: 0.0109260859\n",
            "Epoch 4/49\n",
            "----------\n",
            "LR 1e-05\n",
            "[5,    10] loss: 0.0119958079\n",
            "[5,    20] loss: 0.0111291902\n",
            "[5,    30] loss: 0.0098884333\n",
            "Epoch 5/49\n",
            "----------\n",
            "LR 1e-05\n",
            "[6,    10] loss: 0.0107763542\n",
            "[6,    20] loss: 0.0115671574\n",
            "[6,    30] loss: 0.0103922311\n",
            "Epoch 6/49\n",
            "----------\n",
            "LR 1e-05\n",
            "[7,    10] loss: 0.0104653715\n",
            "[7,    20] loss: 0.0111080732\n",
            "[7,    30] loss: 0.0106174541\n",
            "Epoch 7/49\n",
            "----------\n",
            "LR 1e-05\n",
            "[8,    10] loss: 0.0109669529\n",
            "[8,    20] loss: 0.0105719293\n",
            "[8,    30] loss: 0.0105953879\n",
            "Epoch 8/49\n",
            "----------\n",
            "LR 1e-05\n",
            "[9,    10] loss: 0.0111742639\n",
            "[9,    20] loss: 0.0102707040\n",
            "[9,    30] loss: 0.0105132578\n",
            "Epoch 9/49\n",
            "----------\n",
            "LR 1.0000000000000002e-06\n",
            "[10,    10] loss: 0.0106390423\n",
            "[10,    20] loss: 0.0098974786\n",
            "[10,    30] loss: 0.0104613431\n",
            "Epoch 10/49\n",
            "----------\n",
            "LR 1.0000000000000002e-06\n",
            "[11,    10] loss: 0.0105046039\n",
            "[11,    20] loss: 0.0105802472\n"
          ],
          "name": "stdout"
        },
        {
          "output_type": "stream",
          "text": [
            "Traceback (most recent call last):\n",
            "  File \"/usr/lib/python3.6/multiprocessing/queues.py\", line 240, in _feed\n",
            "    send_bytes(obj)\n",
            "  File \"/usr/lib/python3.6/multiprocessing/connection.py\", line 200, in send_bytes\n",
            "    self._send_bytes(m[offset:offset + size])\n",
            "  File \"/usr/lib/python3.6/multiprocessing/connection.py\", line 404, in _send_bytes\n",
            "    self._send(header + buf)\n",
            "  File \"/usr/lib/python3.6/multiprocessing/connection.py\", line 368, in _send\n",
            "    n = write(self._handle, buf)\n",
            "BrokenPipeError: [Errno 32] Broken pipe\n"
          ],
          "name": "stderr"
        },
        {
          "output_type": "error",
          "ename": "KeyboardInterrupt",
          "evalue": "ignored",
          "traceback": [
            "\u001b[0;31m---------------------------------------------------------------------------\u001b[0m",
            "\u001b[0;31mKeyboardInterrupt\u001b[0m                         Traceback (most recent call last)",
            "\u001b[0;32m<ipython-input-35-1beeac365140>\u001b[0m in \u001b[0;36m<module>\u001b[0;34m()\u001b[0m\n\u001b[1;32m     24\u001b[0m \u001b[0;34m\u001b[0m\u001b[0m\n\u001b[1;32m     25\u001b[0m         \u001b[0mlabels\u001b[0m \u001b[0;34m=\u001b[0m \u001b[0mtorch\u001b[0m\u001b[0;34m.\u001b[0m\u001b[0mempty_like\u001b[0m\u001b[0;34m(\u001b[0m\u001b[0moutputs\u001b[0m\u001b[0;34m)\u001b[0m\u001b[0;34m\u001b[0m\u001b[0;34m\u001b[0m\u001b[0m\n\u001b[0;32m---> 26\u001b[0;31m         \u001b[0mlab_channel\u001b[0m \u001b[0;34m=\u001b[0m \u001b[0;34m(\u001b[0m\u001b[0mlabel_split\u001b[0m\u001b[0;34m(\u001b[0m\u001b[0mlabels\u001b[0m\u001b[0;34m,\u001b[0m\u001b[0mtargetimage\u001b[0m\u001b[0;34m,\u001b[0m\u001b[0mn_class\u001b[0m\u001b[0;34m)\u001b[0m\u001b[0;34m)\u001b[0m\u001b[0;34m.\u001b[0m\u001b[0mcuda\u001b[0m\u001b[0;34m(\u001b[0m\u001b[0;34m)\u001b[0m\u001b[0;34m\u001b[0m\u001b[0;34m\u001b[0m\u001b[0m\n\u001b[0m\u001b[1;32m     27\u001b[0m \u001b[0;34m\u001b[0m\u001b[0m\n\u001b[1;32m     28\u001b[0m \u001b[0;34m\u001b[0m\u001b[0m\n",
            "\u001b[0;32m<ipython-input-25-3e006126423a>\u001b[0m in \u001b[0;36mlabel_split\u001b[0;34m(labels, targetimage, n_class)\u001b[0m\n\u001b[1;32m      2\u001b[0m   \u001b[0;32mfor\u001b[0m \u001b[0mi\u001b[0m \u001b[0;32min\u001b[0m \u001b[0mrange\u001b[0m\u001b[0;34m(\u001b[0m\u001b[0mn_class\u001b[0m\u001b[0;34m)\u001b[0m\u001b[0;34m:\u001b[0m\u001b[0;34m\u001b[0m\u001b[0;34m\u001b[0m\u001b[0m\n\u001b[1;32m      3\u001b[0m     \u001b[0;32mif\u001b[0m \u001b[0mi\u001b[0m\u001b[0;34m==\u001b[0m\u001b[0;36m0\u001b[0m\u001b[0;34m:\u001b[0m\u001b[0;34m\u001b[0m\u001b[0;34m\u001b[0m\u001b[0m\n\u001b[0;32m----> 4\u001b[0;31m       \u001b[0mlabels\u001b[0m\u001b[0;34m[\u001b[0m\u001b[0;34m:\u001b[0m\u001b[0;34m,\u001b[0m\u001b[0;36m0\u001b[0m\u001b[0;34m,\u001b[0m\u001b[0;34m:\u001b[0m\u001b[0;34m,\u001b[0m\u001b[0;34m:\u001b[0m\u001b[0;34m]\u001b[0m \u001b[0;34m=\u001b[0m \u001b[0;34m(\u001b[0m\u001b[0mtargetimage\u001b[0m\u001b[0;34m==\u001b[0m \u001b[0;36m0\u001b[0m\u001b[0;34m)\u001b[0m\u001b[0;34m==\u001b[0m\u001b[0;36m1\u001b[0m\u001b[0;34m\u001b[0m\u001b[0;34m\u001b[0m\u001b[0m\n\u001b[0m\u001b[1;32m      5\u001b[0m     \u001b[0;32melse\u001b[0m\u001b[0;34m:\u001b[0m\u001b[0;34m\u001b[0m\u001b[0;34m\u001b[0m\u001b[0m\n\u001b[1;32m      6\u001b[0m         \u001b[0mlabels\u001b[0m\u001b[0;34m[\u001b[0m\u001b[0;34m:\u001b[0m\u001b[0;34m,\u001b[0m\u001b[0mi\u001b[0m\u001b[0;34m,\u001b[0m\u001b[0;34m:\u001b[0m\u001b[0;34m,\u001b[0m\u001b[0;34m:\u001b[0m\u001b[0;34m]\u001b[0m \u001b[0;34m=\u001b[0m \u001b[0;34m(\u001b[0m\u001b[0mtargetimage\u001b[0m\u001b[0;34m!=\u001b[0m \u001b[0mi\u001b[0m\u001b[0;34m)\u001b[0m\u001b[0;34m==\u001b[0m\u001b[0;36m0\u001b[0m\u001b[0;34m\u001b[0m\u001b[0;34m\u001b[0m\u001b[0m\n",
            "\u001b[0;31mKeyboardInterrupt\u001b[0m: "
          ]
        }
      ]
    },
    {
      "cell_type": "markdown",
      "metadata": {
        "id": "7wxKlOUxh_Z5",
        "colab_type": "text"
      },
      "source": [
        "**Dont run the save command if the training is not performed**\n",
        "\n"
      ]
    },
    {
      "cell_type": "code",
      "metadata": {
        "id": "mejY3FUVhSeN",
        "colab_type": "code",
        "colab": {}
      },
      "source": [
        "torch.save(unet.state_dict(), os.path.join(\"/content/drive/My Drive/Dataset/PennFudanPed/\",\"unet_7M_finetune\"))"
      ],
      "execution_count": null,
      "outputs": []
    },
    {
      "cell_type": "markdown",
      "metadata": {
        "id": "edDjMDAOiLlO",
        "colab_type": "text"
      },
      "source": [
        "# **Testing**"
      ]
    },
    {
      "cell_type": "markdown",
      "metadata": {
        "id": "sr8OGI9CHeTZ",
        "colab_type": "text"
      },
      "source": [
        "**Load the pretrained dataset here if available**\n",
        "\n",
        "**Note:**\n",
        "\n",
        "* Ensure the directory is correct to search the .pth file\n",
        "* Ensure correct name for .pth file matching the choosen model architecture\n",
        "* If architecture matched we will see: **All keys matched successfully**"
      ]
    },
    {
      "cell_type": "code",
      "metadata": {
        "id": "Wfdg43xL9IjI",
        "colab_type": "code",
        "colab": {
          "base_uri": "https://localhost:8080/",
          "height": 34
        },
        "outputId": "3b52b5de-5a91-4e86-df1c-9002e36bcf09"
      },
      "source": [
        "unet.load_state_dict(torch.load(os.path.join(\"/content/drive/My Drive/Dataset/PennFudanPed/\",unetsavelist[picking_architecture])))"
      ],
      "execution_count": null,
      "outputs": [
        {
          "output_type": "execute_result",
          "data": {
            "text/plain": [
              "<All keys matched successfully>"
            ]
          },
          "metadata": {
            "tags": []
          },
          "execution_count": 100
        }
      ]
    },
    {
      "cell_type": "markdown",
      "metadata": {
        "id": "_T98Y15oigAO",
        "colab_type": "text"
      },
      "source": [
        "**IOU metrics**"
      ]
    },
    {
      "cell_type": "code",
      "metadata": {
        "id": "SCDpK2VJ9IjO",
        "colab_type": "code",
        "colab": {}
      },
      "source": [
        "def iou(pred, target, smooth=1.):\n",
        "    pred = pred.contiguous()\n",
        "    target = target.contiguous()    \n",
        "\n",
        "    intersection = (pred * target).sum(dim=2).sum(dim=2)\n",
        "    union = pred.sum(dim=2).sum(dim=2) + target.sum(dim=2).sum(dim=2) \n",
        "    #print(intersection,union)\n",
        "   \n",
        "    loss = ((intersection + smooth) / (pred.sum(dim=2).sum(dim=2) + target.sum(dim=2).sum(dim=2) - intersection + smooth))\n",
        "    \n",
        "    return loss.mean()"
      ],
      "execution_count": null,
      "outputs": []
    },
    {
      "cell_type": "markdown",
      "metadata": {
        "id": "NYhCCeoxIGEj",
        "colab_type": "text"
      },
      "source": [
        "**Checking the IOU for our test set**\n",
        "\n",
        "Change the Iou threshold if needed"
      ]
    },
    {
      "cell_type": "code",
      "metadata": {
        "id": "0Yb4EQduiUoP",
        "colab_type": "code",
        "colab": {
          "base_uri": "https://localhost:8080/",
          "height": 35
        },
        "outputId": "5f2a3937-38fd-4c9d-eeaf-a1bb20022bed"
      },
      "source": [
        "iou_threshold = 0.5 # enter the threshold for IOU metrics\n",
        "correct_prediction = 0\n",
        "total_prediction = 0\n",
        "for i, data in enumerate(dataloaders['test']):\n",
        "    inputimage, targetimage = data\n",
        "    \n",
        "    if gpu_available:\n",
        "        inputimage = inputimage.cuda() \n",
        "        \n",
        "\n",
        "    prediction = unet(inputimage)\n",
        "    prediction = torch.sigmoid(prediction)  \n",
        "    \n",
        "    labels = torch.empty_like(prediction)\n",
        "    lab_channel = (label_split(labels,targetimage,n_class)).cuda()\n",
        "\n",
        "    loss_raw = ((iou(prediction,lab_channel,1e-9)).cpu())\n",
        "    \n",
        "    total_prediction = total_prediction + 1\n",
        "    if loss_raw > iou_threshold:\n",
        "      correct_prediction = correct_prediction + 1\n",
        "\n",
        "print(\"IOU loss: \" + str(correct_prediction/total_prediction) +str(\" for IOU threshold of: \") + str(iou_threshold))"
      ],
      "execution_count": null,
      "outputs": [
        {
          "output_type": "stream",
          "text": [
            "IOU loss: 0.95 for IOU threshold of: 0.5\n"
          ],
          "name": "stdout"
        }
      ]
    },
    {
      "cell_type": "markdown",
      "metadata": {
        "colab_type": "text",
        "id": "GpjdOPCqIi6p"
      },
      "source": [
        "**Visualising the predicted output**"
      ]
    },
    {
      "cell_type": "code",
      "metadata": {
        "colab_type": "code",
        "id": "dzEnkwMB-N9E",
        "scrolled": true,
        "colab": {
          "base_uri": "https://localhost:8080/",
          "height": 249
        },
        "outputId": "39069ee3-1fef-49b3-ea80-84b37f0304dc"
      },
      "source": [
        "import math\n",
        "\n",
        "# Get the first batch\n",
        "inputs1, targetimage = next(iter(dataloaders['test']))\n",
        "inputs = inputs1.cuda()\n",
        "\n",
        "# Predict\n",
        "pred = unet(inputs)\n",
        "\n",
        "# The loss functions include the sigmoid function.\n",
        "pred = torch.sigmoid(pred)\n",
        "pred_max = torch.argmax(pred, dim=1)\n",
        "\n",
        "\n",
        "#printing image\n",
        "fig,(ax1,ax2,ax3)=plt.subplots(1,3,figsize=(12,12),facecolor='w')\n",
        "ax1.imshow(pred_max.squeeze(0).cpu(),  interpolation='none',cmap='jet')\n",
        "ax2.imshow(targetimage.squeeze(0).cpu(),  interpolation='none',cmap='jet')\n",
        "ax3.imshow(inputs1[:,2,:,:].squeeze(0).cpu(),  interpolation='none',cmap='gray')\n",
        "ax1.axis('off')\n",
        "ax2.axis('off')\n",
        "ax3.axis('off')\n",
        "ax1.set_title('prediction',fontsize=20)\n",
        "ax2.set_title('Label',fontsize=20)\n",
        "ax3.set_title('input',fontsize=20)\n",
        "plt.show()\n"
      ],
      "execution_count": null,
      "outputs": [
        {
          "output_type": "display_data",
          "data": {
            "image/png": "[encoded data removed]",
            "text/plain": [
              "<Figure size 864x864 with 3 Axes>"
            ]
          },
          "metadata": {
            "tags": []
          }
        }
      ]
    }
  ]
}