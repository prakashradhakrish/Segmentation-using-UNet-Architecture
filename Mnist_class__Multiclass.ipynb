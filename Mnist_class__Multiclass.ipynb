{
  "nbformat": 4,
  "nbformat_minor": 0,
  "metadata": {
    "colab": {
      "name": "Mnist class_ Multiclass_Group15.ipynb",
      "provenance": [],
      "collapsed_sections": [],
      "toc_visible": true
    },
    "kernelspec": {
      "name": "python3",
      "display_name": "Python 3"
    },
    "widgets": {
      "application/vnd.jupyter.widget-state+json": {
        "5234fdcd7c5349e3ae0d1338ae2f0f19": {
          "model_module": "@jupyter-widgets/controls",
          "model_name": "HBoxModel",
          "state": {
            "_view_name": "HBoxView",
            "_dom_classes": [],
            "_model_name": "HBoxModel",
            "_view_module": "@jupyter-widgets/controls",
            "_model_module_version": "1.5.0",
            "_view_count": null,
            "_view_module_version": "1.5.0",
            "box_style": "",
            "layout": "IPY_MODEL_0975d16af1314a55afb78d5ed925caf7",
            "_model_module": "@jupyter-widgets/controls",
            "children": [
              "IPY_MODEL_bea72229cd404e90b24555787aa412c6",
              "IPY_MODEL_17d9964ab64c47909ccd03d8b0f95de0"
            ]
          }
        },
        "0975d16af1314a55afb78d5ed925caf7": {
          "model_module": "@jupyter-widgets/base",
          "model_name": "LayoutModel",
          "state": {
            "_view_name": "LayoutView",
            "grid_template_rows": null,
            "right": null,
            "justify_content": null,
            "_view_module": "@jupyter-widgets/base",
            "overflow": null,
            "_model_module_version": "1.2.0",
            "_view_count": null,
            "flex_flow": null,
            "width": null,
            "min_width": null,
            "border": null,
            "align_items": null,
            "bottom": null,
            "_model_module": "@jupyter-widgets/base",
            "top": null,
            "grid_column": null,
            "overflow_y": null,
            "overflow_x": null,
            "grid_auto_flow": null,
            "grid_area": null,
            "grid_template_columns": null,
            "flex": null,
            "_model_name": "LayoutModel",
            "justify_items": null,
            "grid_row": null,
            "max_height": null,
            "align_content": null,
            "visibility": null,
            "align_self": null,
            "height": null,
            "min_height": null,
            "padding": null,
            "grid_auto_rows": null,
            "grid_gap": null,
            "max_width": null,
            "order": null,
            "_view_module_version": "1.2.0",
            "grid_template_areas": null,
            "object_position": null,
            "object_fit": null,
            "grid_auto_columns": null,
            "margin": null,
            "display": null,
            "left": null
          }
        },
        "bea72229cd404e90b24555787aa412c6": {
          "model_module": "@jupyter-widgets/controls",
          "model_name": "FloatProgressModel",
          "state": {
            "_view_name": "ProgressView",
            "style": "IPY_MODEL_24fb85f0da904108ba7542254495b1b0",
            "_dom_classes": [],
            "description": "",
            "_model_name": "FloatProgressModel",
            "bar_style": "info",
            "max": 1,
            "_view_module": "@jupyter-widgets/controls",
            "_model_module_version": "1.5.0",
            "value": 1,
            "_view_count": null,
            "_view_module_version": "1.5.0",
            "orientation": "horizontal",
            "min": 0,
            "description_tooltip": null,
            "_model_module": "@jupyter-widgets/controls",
            "layout": "IPY_MODEL_845420e20a1240b2ab6cb68d9c374871"
          }
        },
        "17d9964ab64c47909ccd03d8b0f95de0": {
          "model_module": "@jupyter-widgets/controls",
          "model_name": "HTMLModel",
          "state": {
            "_view_name": "HTMLView",
            "style": "IPY_MODEL_3b35408577124025bdf668202a1ee326",
            "_dom_classes": [],
            "description": "",
            "_model_name": "HTMLModel",
            "placeholder": "​",
            "_view_module": "@jupyter-widgets/controls",
            "_model_module_version": "1.5.0",
            "value": " 9920512/? [00:20&lt;00:00, 733864.36it/s]",
            "_view_count": null,
            "_view_module_version": "1.5.0",
            "description_tooltip": null,
            "_model_module": "@jupyter-widgets/controls",
            "layout": "IPY_MODEL_2f5309877f8c45f8984028fdf70a0d1c"
          }
        },
        "24fb85f0da904108ba7542254495b1b0": {
          "model_module": "@jupyter-widgets/controls",
          "model_name": "ProgressStyleModel",
          "state": {
            "_view_name": "StyleView",
            "_model_name": "ProgressStyleModel",
            "description_width": "initial",
            "_view_module": "@jupyter-widgets/base",
            "_model_module_version": "1.5.0",
            "_view_count": null,
            "_view_module_version": "1.2.0",
            "bar_color": null,
            "_model_module": "@jupyter-widgets/controls"
          }
        },
        "845420e20a1240b2ab6cb68d9c374871": {
          "model_module": "@jupyter-widgets/base",
          "model_name": "LayoutModel",
          "state": {
            "_view_name": "LayoutView",
            "grid_template_rows": null,
            "right": null,
            "justify_content": null,
            "_view_module": "@jupyter-widgets/base",
            "overflow": null,
            "_model_module_version": "1.2.0",
            "_view_count": null,
            "flex_flow": null,
            "width": null,
            "min_width": null,
            "border": null,
            "align_items": null,
            "bottom": null,
            "_model_module": "@jupyter-widgets/base",
            "top": null,
            "grid_column": null,
            "overflow_y": null,
            "overflow_x": null,
            "grid_auto_flow": null,
            "grid_area": null,
            "grid_template_columns": null,
            "flex": null,
            "_model_name": "LayoutModel",
            "justify_items": null,
            "grid_row": null,
            "max_height": null,
            "align_content": null,
            "visibility": null,
            "align_self": null,
            "height": null,
            "min_height": null,
            "padding": null,
            "grid_auto_rows": null,
            "grid_gap": null,
            "max_width": null,
            "order": null,
            "_view_module_version": "1.2.0",
            "grid_template_areas": null,
            "object_position": null,
            "object_fit": null,
            "grid_auto_columns": null,
            "margin": null,
            "display": null,
            "left": null
          }
        },
        "3b35408577124025bdf668202a1ee326": {
          "model_module": "@jupyter-widgets/controls",
          "model_name": "DescriptionStyleModel",
          "state": {
            "_view_name": "StyleView",
            "_model_name": "DescriptionStyleModel",
            "description_width": "",
            "_view_module": "@jupyter-widgets/base",
            "_model_module_version": "1.5.0",
            "_view_count": null,
            "_view_module_version": "1.2.0",
            "_model_module": "@jupyter-widgets/controls"
          }
        },
        "2f5309877f8c45f8984028fdf70a0d1c": {
          "model_module": "@jupyter-widgets/base",
          "model_name": "LayoutModel",
          "state": {
            "_view_name": "LayoutView",
            "grid_template_rows": null,
            "right": null,
            "justify_content": null,
            "_view_module": "@jupyter-widgets/base",
            "overflow": null,
            "_model_module_version": "1.2.0",
            "_view_count": null,
            "flex_flow": null,
            "width": null,
            "min_width": null,
            "border": null,
            "align_items": null,
            "bottom": null,
            "_model_module": "@jupyter-widgets/base",
            "top": null,
            "grid_column": null,
            "overflow_y": null,
            "overflow_x": null,
            "grid_auto_flow": null,
            "grid_area": null,
            "grid_template_columns": null,
            "flex": null,
            "_model_name": "LayoutModel",
            "justify_items": null,
            "grid_row": null,
            "max_height": null,
            "align_content": null,
            "visibility": null,
            "align_self": null,
            "height": null,
            "min_height": null,
            "padding": null,
            "grid_auto_rows": null,
            "grid_gap": null,
            "max_width": null,
            "order": null,
            "_view_module_version": "1.2.0",
            "grid_template_areas": null,
            "object_position": null,
            "object_fit": null,
            "grid_auto_columns": null,
            "margin": null,
            "display": null,
            "left": null
          }
        },
        "34f1a40f9cb140d48e6652bf5924fc41": {
          "model_module": "@jupyter-widgets/controls",
          "model_name": "HBoxModel",
          "state": {
            "_view_name": "HBoxView",
            "_dom_classes": [],
            "_model_name": "HBoxModel",
            "_view_module": "@jupyter-widgets/controls",
            "_model_module_version": "1.5.0",
            "_view_count": null,
            "_view_module_version": "1.5.0",
            "box_style": "",
            "layout": "IPY_MODEL_268056a5a62d4fc89c84473f389e367c",
            "_model_module": "@jupyter-widgets/controls",
            "children": [
              "IPY_MODEL_0ae60991874e4d7a979ccc9a036f2068",
              "IPY_MODEL_b886af07b8fb4ff28cb25563f5667406"
            ]
          }
        },
        "268056a5a62d4fc89c84473f389e367c": {
          "model_module": "@jupyter-widgets/base",
          "model_name": "LayoutModel",
          "state": {
            "_view_name": "LayoutView",
            "grid_template_rows": null,
            "right": null,
            "justify_content": null,
            "_view_module": "@jupyter-widgets/base",
            "overflow": null,
            "_model_module_version": "1.2.0",
            "_view_count": null,
            "flex_flow": null,
            "width": null,
            "min_width": null,
            "border": null,
            "align_items": null,
            "bottom": null,
            "_model_module": "@jupyter-widgets/base",
            "top": null,
            "grid_column": null,
            "overflow_y": null,
            "overflow_x": null,
            "grid_auto_flow": null,
            "grid_area": null,
            "grid_template_columns": null,
            "flex": null,
            "_model_name": "LayoutModel",
            "justify_items": null,
            "grid_row": null,
            "max_height": null,
            "align_content": null,
            "visibility": null,
            "align_self": null,
            "height": null,
            "min_height": null,
            "padding": null,
            "grid_auto_rows": null,
            "grid_gap": null,
            "max_width": null,
            "order": null,
            "_view_module_version": "1.2.0",
            "grid_template_areas": null,
            "object_position": null,
            "object_fit": null,
            "grid_auto_columns": null,
            "margin": null,
            "display": null,
            "left": null
          }
        },
        "0ae60991874e4d7a979ccc9a036f2068": {
          "model_module": "@jupyter-widgets/controls",
          "model_name": "FloatProgressModel",
          "state": {
            "_view_name": "ProgressView",
            "style": "IPY_MODEL_8bb82ed914874a358a96594468101416",
            "_dom_classes": [],
            "description": "  0%",
            "_model_name": "FloatProgressModel",
            "bar_style": "info",
            "max": 1,
            "_view_module": "@jupyter-widgets/controls",
            "_model_module_version": "1.5.0",
            "value": 0,
            "_view_count": null,
            "_view_module_version": "1.5.0",
            "orientation": "horizontal",
            "min": 0,
            "description_tooltip": null,
            "_model_module": "@jupyter-widgets/controls",
            "layout": "IPY_MODEL_73eafc8460594e949cdef51296d0589b"
          }
        },
        "b886af07b8fb4ff28cb25563f5667406": {
          "model_module": "@jupyter-widgets/controls",
          "model_name": "HTMLModel",
          "state": {
            "_view_name": "HTMLView",
            "style": "IPY_MODEL_ca482a2b49234355abc8a7f78341a45e",
            "_dom_classes": [],
            "description": "",
            "_model_name": "HTMLModel",
            "placeholder": "​",
            "_view_module": "@jupyter-widgets/controls",
            "_model_module_version": "1.5.0",
            "value": " 0/28881 [00:00&lt;?, ?it/s]",
            "_view_count": null,
            "_view_module_version": "1.5.0",
            "description_tooltip": null,
            "_model_module": "@jupyter-widgets/controls",
            "layout": "IPY_MODEL_595ea56efe5b45eb8b51249bbc70e5f8"
          }
        },
        "8bb82ed914874a358a96594468101416": {
          "model_module": "@jupyter-widgets/controls",
          "model_name": "ProgressStyleModel",
          "state": {
            "_view_name": "StyleView",
            "_model_name": "ProgressStyleModel",
            "description_width": "initial",
            "_view_module": "@jupyter-widgets/base",
            "_model_module_version": "1.5.0",
            "_view_count": null,
            "_view_module_version": "1.2.0",
            "bar_color": null,
            "_model_module": "@jupyter-widgets/controls"
          }
        },
        "73eafc8460594e949cdef51296d0589b": {
          "model_module": "@jupyter-widgets/base",
          "model_name": "LayoutModel",
          "state": {
            "_view_name": "LayoutView",
            "grid_template_rows": null,
            "right": null,
            "justify_content": null,
            "_view_module": "@jupyter-widgets/base",
            "overflow": null,
            "_model_module_version": "1.2.0",
            "_view_count": null,
            "flex_flow": null,
            "width": null,
            "min_width": null,
            "border": null,
            "align_items": null,
            "bottom": null,
            "_model_module": "@jupyter-widgets/base",
            "top": null,
            "grid_column": null,
            "overflow_y": null,
            "overflow_x": null,
            "grid_auto_flow": null,
            "grid_area": null,
            "grid_template_columns": null,
            "flex": null,
            "_model_name": "LayoutModel",
            "justify_items": null,
            "grid_row": null,
            "max_height": null,
            "align_content": null,
            "visibility": null,
            "align_self": null,
            "height": null,
            "min_height": null,
            "padding": null,
            "grid_auto_rows": null,
            "grid_gap": null,
            "max_width": null,
            "order": null,
            "_view_module_version": "1.2.0",
            "grid_template_areas": null,
            "object_position": null,
            "object_fit": null,
            "grid_auto_columns": null,
            "margin": null,
            "display": null,
            "left": null
          }
        },
        "ca482a2b49234355abc8a7f78341a45e": {
          "model_module": "@jupyter-widgets/controls",
          "model_name": "DescriptionStyleModel",
          "state": {
            "_view_name": "StyleView",
            "_model_name": "DescriptionStyleModel",
            "description_width": "",
            "_view_module": "@jupyter-widgets/base",
            "_model_module_version": "1.5.0",
            "_view_count": null,
            "_view_module_version": "1.2.0",
            "_model_module": "@jupyter-widgets/controls"
          }
        },
        "595ea56efe5b45eb8b51249bbc70e5f8": {
          "model_module": "@jupyter-widgets/base",
          "model_name": "LayoutModel",
          "state": {
            "_view_name": "LayoutView",
            "grid_template_rows": null,
            "right": null,
            "justify_content": null,
            "_view_module": "@jupyter-widgets/base",
            "overflow": null,
            "_model_module_version": "1.2.0",
            "_view_count": null,
            "flex_flow": null,
            "width": null,
            "min_width": null,
            "border": null,
            "align_items": null,
            "bottom": null,
            "_model_module": "@jupyter-widgets/base",
            "top": null,
            "grid_column": null,
            "overflow_y": null,
            "overflow_x": null,
            "grid_auto_flow": null,
            "grid_area": null,
            "grid_template_columns": null,
            "flex": null,
            "_model_name": "LayoutModel",
            "justify_items": null,
            "grid_row": null,
            "max_height": null,
            "align_content": null,
            "visibility": null,
            "align_self": null,
            "height": null,
            "min_height": null,
            "padding": null,
            "grid_auto_rows": null,
            "grid_gap": null,
            "max_width": null,
            "order": null,
            "_view_module_version": "1.2.0",
            "grid_template_areas": null,
            "object_position": null,
            "object_fit": null,
            "grid_auto_columns": null,
            "margin": null,
            "display": null,
            "left": null
          }
        },
        "5ce513f5f392416094ac3b58191faf3f": {
          "model_module": "@jupyter-widgets/controls",
          "model_name": "HBoxModel",
          "state": {
            "_view_name": "HBoxView",
            "_dom_classes": [],
            "_model_name": "HBoxModel",
            "_view_module": "@jupyter-widgets/controls",
            "_model_module_version": "1.5.0",
            "_view_count": null,
            "_view_module_version": "1.5.0",
            "box_style": "",
            "layout": "IPY_MODEL_16f51b58ecc74a45a4a687cfdafda6da",
            "_model_module": "@jupyter-widgets/controls",
            "children": [
              "IPY_MODEL_0c505b4ce5ce428e99a876eb7aa1388a",
              "IPY_MODEL_1ea93c8d27a84da188ea4019852acc2b"
            ]
          }
        },
        "16f51b58ecc74a45a4a687cfdafda6da": {
          "model_module": "@jupyter-widgets/base",
          "model_name": "LayoutModel",
          "state": {
            "_view_name": "LayoutView",
            "grid_template_rows": null,
            "right": null,
            "justify_content": null,
            "_view_module": "@jupyter-widgets/base",
            "overflow": null,
            "_model_module_version": "1.2.0",
            "_view_count": null,
            "flex_flow": null,
            "width": null,
            "min_width": null,
            "border": null,
            "align_items": null,
            "bottom": null,
            "_model_module": "@jupyter-widgets/base",
            "top": null,
            "grid_column": null,
            "overflow_y": null,
            "overflow_x": null,
            "grid_auto_flow": null,
            "grid_area": null,
            "grid_template_columns": null,
            "flex": null,
            "_model_name": "LayoutModel",
            "justify_items": null,
            "grid_row": null,
            "max_height": null,
            "align_content": null,
            "visibility": null,
            "align_self": null,
            "height": null,
            "min_height": null,
            "padding": null,
            "grid_auto_rows": null,
            "grid_gap": null,
            "max_width": null,
            "order": null,
            "_view_module_version": "1.2.0",
            "grid_template_areas": null,
            "object_position": null,
            "object_fit": null,
            "grid_auto_columns": null,
            "margin": null,
            "display": null,
            "left": null
          }
        },
        "0c505b4ce5ce428e99a876eb7aa1388a": {
          "model_module": "@jupyter-widgets/controls",
          "model_name": "FloatProgressModel",
          "state": {
            "_view_name": "ProgressView",
            "style": "IPY_MODEL_3f09ff7ab1314ad4b5a987a417879c72",
            "_dom_classes": [],
            "description": "",
            "_model_name": "FloatProgressModel",
            "bar_style": "info",
            "max": 1,
            "_view_module": "@jupyter-widgets/controls",
            "_model_module_version": "1.5.0",
            "value": 1,
            "_view_count": null,
            "_view_module_version": "1.5.0",
            "orientation": "horizontal",
            "min": 0,
            "description_tooltip": null,
            "_model_module": "@jupyter-widgets/controls",
            "layout": "IPY_MODEL_9d9ed30cc4104ef5a991f5fe0c32f3a4"
          }
        },
        "1ea93c8d27a84da188ea4019852acc2b": {
          "model_module": "@jupyter-widgets/controls",
          "model_name": "HTMLModel",
          "state": {
            "_view_name": "HTMLView",
            "style": "IPY_MODEL_a0bc56b458a54380bba105550e0711d8",
            "_dom_classes": [],
            "description": "",
            "_model_name": "HTMLModel",
            "placeholder": "​",
            "_view_module": "@jupyter-widgets/controls",
            "_model_module_version": "1.5.0",
            "value": " 1654784/? [00:17&lt;00:00, 251587.25it/s]",
            "_view_count": null,
            "_view_module_version": "1.5.0",
            "description_tooltip": null,
            "_model_module": "@jupyter-widgets/controls",
            "layout": "IPY_MODEL_0af151c0f9d8407db34753a1b51dd110"
          }
        },
        "3f09ff7ab1314ad4b5a987a417879c72": {
          "model_module": "@jupyter-widgets/controls",
          "model_name": "ProgressStyleModel",
          "state": {
            "_view_name": "StyleView",
            "_model_name": "ProgressStyleModel",
            "description_width": "initial",
            "_view_module": "@jupyter-widgets/base",
            "_model_module_version": "1.5.0",
            "_view_count": null,
            "_view_module_version": "1.2.0",
            "bar_color": null,
            "_model_module": "@jupyter-widgets/controls"
          }
        },
        "9d9ed30cc4104ef5a991f5fe0c32f3a4": {
          "model_module": "@jupyter-widgets/base",
          "model_name": "LayoutModel",
          "state": {
            "_view_name": "LayoutView",
            "grid_template_rows": null,
            "right": null,
            "justify_content": null,
            "_view_module": "@jupyter-widgets/base",
            "overflow": null,
            "_model_module_version": "1.2.0",
            "_view_count": null,
            "flex_flow": null,
            "width": null,
            "min_width": null,
            "border": null,
            "align_items": null,
            "bottom": null,
            "_model_module": "@jupyter-widgets/base",
            "top": null,
            "grid_column": null,
            "overflow_y": null,
            "overflow_x": null,
            "grid_auto_flow": null,
            "grid_area": null,
            "grid_template_columns": null,
            "flex": null,
            "_model_name": "LayoutModel",
            "justify_items": null,
            "grid_row": null,
            "max_height": null,
            "align_content": null,
            "visibility": null,
            "align_self": null,
            "height": null,
            "min_height": null,
            "padding": null,
            "grid_auto_rows": null,
            "grid_gap": null,
            "max_width": null,
            "order": null,
            "_view_module_version": "1.2.0",
            "grid_template_areas": null,
            "object_position": null,
            "object_fit": null,
            "grid_auto_columns": null,
            "margin": null,
            "display": null,
            "left": null
          }
        },
        "a0bc56b458a54380bba105550e0711d8": {
          "model_module": "@jupyter-widgets/controls",
          "model_name": "DescriptionStyleModel",
          "state": {
            "_view_name": "StyleView",
            "_model_name": "DescriptionStyleModel",
            "description_width": "",
            "_view_module": "@jupyter-widgets/base",
            "_model_module_version": "1.5.0",
            "_view_count": null,
            "_view_module_version": "1.2.0",
            "_model_module": "@jupyter-widgets/controls"
          }
        },
        "0af151c0f9d8407db34753a1b51dd110": {
          "model_module": "@jupyter-widgets/base",
          "model_name": "LayoutModel",
          "state": {
            "_view_name": "LayoutView",
            "grid_template_rows": null,
            "right": null,
            "justify_content": null,
            "_view_module": "@jupyter-widgets/base",
            "overflow": null,
            "_model_module_version": "1.2.0",
            "_view_count": null,
            "flex_flow": null,
            "width": null,
            "min_width": null,
            "border": null,
            "align_items": null,
            "bottom": null,
            "_model_module": "@jupyter-widgets/base",
            "top": null,
            "grid_column": null,
            "overflow_y": null,
            "overflow_x": null,
            "grid_auto_flow": null,
            "grid_area": null,
            "grid_template_columns": null,
            "flex": null,
            "_model_name": "LayoutModel",
            "justify_items": null,
            "grid_row": null,
            "max_height": null,
            "align_content": null,
            "visibility": null,
            "align_self": null,
            "height": null,
            "min_height": null,
            "padding": null,
            "grid_auto_rows": null,
            "grid_gap": null,
            "max_width": null,
            "order": null,
            "_view_module_version": "1.2.0",
            "grid_template_areas": null,
            "object_position": null,
            "object_fit": null,
            "grid_auto_columns": null,
            "margin": null,
            "display": null,
            "left": null
          }
        },
        "541f7604e3e74d608968bd24844af980": {
          "model_module": "@jupyter-widgets/controls",
          "model_name": "HBoxModel",
          "state": {
            "_view_name": "HBoxView",
            "_dom_classes": [],
            "_model_name": "HBoxModel",
            "_view_module": "@jupyter-widgets/controls",
            "_model_module_version": "1.5.0",
            "_view_count": null,
            "_view_module_version": "1.5.0",
            "box_style": "",
            "layout": "IPY_MODEL_7af559fcf9224651b96fec49a3a8cd8d",
            "_model_module": "@jupyter-widgets/controls",
            "children": [
              "IPY_MODEL_546d56c0f11745348998f2f209d16ef4",
              "IPY_MODEL_c5fe5798f9014d098d8e1b31332797fc"
            ]
          }
        },
        "7af559fcf9224651b96fec49a3a8cd8d": {
          "model_module": "@jupyter-widgets/base",
          "model_name": "LayoutModel",
          "state": {
            "_view_name": "LayoutView",
            "grid_template_rows": null,
            "right": null,
            "justify_content": null,
            "_view_module": "@jupyter-widgets/base",
            "overflow": null,
            "_model_module_version": "1.2.0",
            "_view_count": null,
            "flex_flow": null,
            "width": null,
            "min_width": null,
            "border": null,
            "align_items": null,
            "bottom": null,
            "_model_module": "@jupyter-widgets/base",
            "top": null,
            "grid_column": null,
            "overflow_y": null,
            "overflow_x": null,
            "grid_auto_flow": null,
            "grid_area": null,
            "grid_template_columns": null,
            "flex": null,
            "_model_name": "LayoutModel",
            "justify_items": null,
            "grid_row": null,
            "max_height": null,
            "align_content": null,
            "visibility": null,
            "align_self": null,
            "height": null,
            "min_height": null,
            "padding": null,
            "grid_auto_rows": null,
            "grid_gap": null,
            "max_width": null,
            "order": null,
            "_view_module_version": "1.2.0",
            "grid_template_areas": null,
            "object_position": null,
            "object_fit": null,
            "grid_auto_columns": null,
            "margin": null,
            "display": null,
            "left": null
          }
        },
        "546d56c0f11745348998f2f209d16ef4": {
          "model_module": "@jupyter-widgets/controls",
          "model_name": "FloatProgressModel",
          "state": {
            "_view_name": "ProgressView",
            "style": "IPY_MODEL_79132a6fca40454887a74f0ae2b578ab",
            "_dom_classes": [],
            "description": "  0%",
            "_model_name": "FloatProgressModel",
            "bar_style": "info",
            "max": 1,
            "_view_module": "@jupyter-widgets/controls",
            "_model_module_version": "1.5.0",
            "value": 0,
            "_view_count": null,
            "_view_module_version": "1.5.0",
            "orientation": "horizontal",
            "min": 0,
            "description_tooltip": null,
            "_model_module": "@jupyter-widgets/controls",
            "layout": "IPY_MODEL_6b9d9f4d0e414d889ce9ce84c1096df2"
          }
        },
        "c5fe5798f9014d098d8e1b31332797fc": {
          "model_module": "@jupyter-widgets/controls",
          "model_name": "HTMLModel",
          "state": {
            "_view_name": "HTMLView",
            "style": "IPY_MODEL_2da499a7a8c94d0fb2549ec493706c8a",
            "_dom_classes": [],
            "description": "",
            "_model_name": "HTMLModel",
            "placeholder": "​",
            "_view_module": "@jupyter-widgets/controls",
            "_model_module_version": "1.5.0",
            "value": " 0/4542 [00:00&lt;?, ?it/s]",
            "_view_count": null,
            "_view_module_version": "1.5.0",
            "description_tooltip": null,
            "_model_module": "@jupyter-widgets/controls",
            "layout": "IPY_MODEL_9646e81a6b264adcb62c98cbd75a2ca8"
          }
        },
        "79132a6fca40454887a74f0ae2b578ab": {
          "model_module": "@jupyter-widgets/controls",
          "model_name": "ProgressStyleModel",
          "state": {
            "_view_name": "StyleView",
            "_model_name": "ProgressStyleModel",
            "description_width": "initial",
            "_view_module": "@jupyter-widgets/base",
            "_model_module_version": "1.5.0",
            "_view_count": null,
            "_view_module_version": "1.2.0",
            "bar_color": null,
            "_model_module": "@jupyter-widgets/controls"
          }
        },
        "6b9d9f4d0e414d889ce9ce84c1096df2": {
          "model_module": "@jupyter-widgets/base",
          "model_name": "LayoutModel",
          "state": {
            "_view_name": "LayoutView",
            "grid_template_rows": null,
            "right": null,
            "justify_content": null,
            "_view_module": "@jupyter-widgets/base",
            "overflow": null,
            "_model_module_version": "1.2.0",
            "_view_count": null,
            "flex_flow": null,
            "width": null,
            "min_width": null,
            "border": null,
            "align_items": null,
            "bottom": null,
            "_model_module": "@jupyter-widgets/base",
            "top": null,
            "grid_column": null,
            "overflow_y": null,
            "overflow_x": null,
            "grid_auto_flow": null,
            "grid_area": null,
            "grid_template_columns": null,
            "flex": null,
            "_model_name": "LayoutModel",
            "justify_items": null,
            "grid_row": null,
            "max_height": null,
            "align_content": null,
            "visibility": null,
            "align_self": null,
            "height": null,
            "min_height": null,
            "padding": null,
            "grid_auto_rows": null,
            "grid_gap": null,
            "max_width": null,
            "order": null,
            "_view_module_version": "1.2.0",
            "grid_template_areas": null,
            "object_position": null,
            "object_fit": null,
            "grid_auto_columns": null,
            "margin": null,
            "display": null,
            "left": null
          }
        },
        "2da499a7a8c94d0fb2549ec493706c8a": {
          "model_module": "@jupyter-widgets/controls",
          "model_name": "DescriptionStyleModel",
          "state": {
            "_view_name": "StyleView",
            "_model_name": "DescriptionStyleModel",
            "description_width": "",
            "_view_module": "@jupyter-widgets/base",
            "_model_module_version": "1.5.0",
            "_view_count": null,
            "_view_module_version": "1.2.0",
            "_model_module": "@jupyter-widgets/controls"
          }
        },
        "9646e81a6b264adcb62c98cbd75a2ca8": {
          "model_module": "@jupyter-widgets/base",
          "model_name": "LayoutModel",
          "state": {
            "_view_name": "LayoutView",
            "grid_template_rows": null,
            "right": null,
            "justify_content": null,
            "_view_module": "@jupyter-widgets/base",
            "overflow": null,
            "_model_module_version": "1.2.0",
            "_view_count": null,
            "flex_flow": null,
            "width": null,
            "min_width": null,
            "border": null,
            "align_items": null,
            "bottom": null,
            "_model_module": "@jupyter-widgets/base",
            "top": null,
            "grid_column": null,
            "overflow_y": null,
            "overflow_x": null,
            "grid_auto_flow": null,
            "grid_area": null,
            "grid_template_columns": null,
            "flex": null,
            "_model_name": "LayoutModel",
            "justify_items": null,
            "grid_row": null,
            "max_height": null,
            "align_content": null,
            "visibility": null,
            "align_self": null,
            "height": null,
            "min_height": null,
            "padding": null,
            "grid_auto_rows": null,
            "grid_gap": null,
            "max_width": null,
            "order": null,
            "_view_module_version": "1.2.0",
            "grid_template_areas": null,
            "object_position": null,
            "object_fit": null,
            "grid_auto_columns": null,
            "margin": null,
            "display": null,
            "left": null
          }
        }
      }
    },
    "accelerator": "GPU"
  },
  "cells": [
    {
      "cell_type": "markdown",
      "metadata": {
        "id": "TTDAFciiLk6P",
        "colab_type": "text"
      },
      "source": [
        "# **Unet in MNIST**#\n",
        "\n",
        "---\n",
        "#![alt text](https://drive.google.com/uc?id=1xlj2KFK3C6ESffAV5PcjPf8KHCliDvrT)\n",
        "---"
      ]
    },
    {
      "cell_type": "markdown",
      "metadata": {
        "id": "-Znr9uX2LvwL",
        "colab_type": "text"
      },
      "source": [
        "# **Initialisation**"
      ]
    },
    {
      "cell_type": "code",
      "metadata": {
        "id": "iNXyZ89KwXrl",
        "colab_type": "code",
        "colab": {}
      },
      "source": [
        "import torch\n",
        "import torchvision\n",
        "import torch.nn as nn\n",
        "import torch.nn.functional as F\n",
        "from torchvision import transforms,datasets\n",
        "import numpy as np\n",
        "import os\n",
        "import torch.optim as optim\n",
        "from torch.optim import lr_scheduler\n",
        "from torch.optim.lr_scheduler import StepLR\n",
        "import matplotlib.pyplot as plt\n",
        "import time\n",
        "import copy\n"
      ],
      "execution_count": null,
      "outputs": []
    },
    {
      "cell_type": "markdown",
      "metadata": {
        "id": "VP_yt_qkjfwe",
        "colab_type": "text"
      },
      "source": [
        "# **Dataset creation on MNIST data**\n"
      ]
    },
    {
      "cell_type": "markdown",
      "metadata": {
        "id": "Pr2rcXCW7ifP",
        "colab_type": "text"
      },
      "source": [
        "**List of steps for creating dataset**\n",
        "\n",
        "*   Creating the image of size 128x128 \n",
        "*   Inserting the 9 random MNIST image and avoid creating overlap\n",
        "*   Creating the target mask image matching the train data \n",
        "\n"
      ]
    },
    {
      "cell_type": "markdown",
      "metadata": {
        "id": "9HxAk-DTMYdp",
        "colab_type": "text"
      },
      "source": [
        "**Download & extract mnist data set from git**"
      ]
    },
    {
      "cell_type": "code",
      "metadata": {
        "id": "pKpP5IMM116A",
        "colab_type": "code",
        "colab": {
          "base_uri": "https://localhost:8080/",
          "height": 158
        },
        "outputId": "6451e23a-d89e-4912-9571-6861bc75774f"
      },
      "source": [
        "!git clone http://github.com/pytorch/examples\n",
        "os.chdir('examples/mnist')\n"
      ],
      "execution_count": null,
      "outputs": [
        {
          "output_type": "stream",
          "text": [
            "Cloning into 'examples'...\n",
            "warning: redirecting to https://github.com/pytorch/examples/\n",
            "remote: Enumerating objects: 5, done.\u001b[K\n",
            "remote: Counting objects: 100% (5/5), done.\u001b[K\n",
            "remote: Compressing objects: 100% (5/5), done.\u001b[K\n",
            "remote: Total 2474 (delta 0), reused 1 (delta 0), pack-reused 2469\u001b[K\n",
            "Receiving objects: 100% (2474/2474), 39.07 MiB | 15.70 MiB/s, done.\n",
            "Resolving deltas: 100% (1228/1228), done.\n"
          ],
          "name": "stdout"
        }
      ]
    },
    {
      "cell_type": "markdown",
      "metadata": {
        "id": "euhKb9UjNM1w",
        "colab_type": "text"
      },
      "source": [
        "**Downloading the MNIST data and storing it in variable**"
      ]
    },
    {
      "cell_type": "code",
      "metadata": {
        "id": "bhj7Cr7FF_he",
        "colab_type": "code",
        "colab": {
          "base_uri": "https://localhost:8080/",
          "height": 431,
          "referenced_widgets": [
            "5234fdcd7c5349e3ae0d1338ae2f0f19",
            "0975d16af1314a55afb78d5ed925caf7",
            "bea72229cd404e90b24555787aa412c6",
            "17d9964ab64c47909ccd03d8b0f95de0",
            "24fb85f0da904108ba7542254495b1b0",
            "845420e20a1240b2ab6cb68d9c374871",
            "3b35408577124025bdf668202a1ee326",
            "2f5309877f8c45f8984028fdf70a0d1c",
            "34f1a40f9cb140d48e6652bf5924fc41",
            "268056a5a62d4fc89c84473f389e367c",
            "0ae60991874e4d7a979ccc9a036f2068",
            "b886af07b8fb4ff28cb25563f5667406",
            "8bb82ed914874a358a96594468101416",
            "73eafc8460594e949cdef51296d0589b",
            "ca482a2b49234355abc8a7f78341a45e",
            "595ea56efe5b45eb8b51249bbc70e5f8",
            "5ce513f5f392416094ac3b58191faf3f",
            "16f51b58ecc74a45a4a687cfdafda6da",
            "0c505b4ce5ce428e99a876eb7aa1388a",
            "1ea93c8d27a84da188ea4019852acc2b",
            "3f09ff7ab1314ad4b5a987a417879c72",
            "9d9ed30cc4104ef5a991f5fe0c32f3a4",
            "a0bc56b458a54380bba105550e0711d8",
            "0af151c0f9d8407db34753a1b51dd110",
            "541f7604e3e74d608968bd24844af980",
            "7af559fcf9224651b96fec49a3a8cd8d",
            "546d56c0f11745348998f2f209d16ef4",
            "c5fe5798f9014d098d8e1b31332797fc",
            "79132a6fca40454887a74f0ae2b578ab",
            "6b9d9f4d0e414d889ce9ce84c1096df2",
            "2da499a7a8c94d0fb2549ec493706c8a",
            "9646e81a6b264adcb62c98cbd75a2ca8"
          ]
        },
        "outputId": "3a3259cf-5332-452e-a421-8ae28e1c8298"
      },
      "source": [
        "train_set = datasets.MNIST('./data', train=True, download=True)\n",
        "test_set = datasets.MNIST('./data', train=False, download=True)\n",
        "\n",
        "trainset = train_set.data.numpy()\n",
        "testset = test_set.data.numpy()\n",
        "train_labels = train_set.train_labels.numpy()\n",
        "test_labels = test_set.test_labels.numpy()"
      ],
      "execution_count": null,
      "outputs": [
        {
          "output_type": "stream",
          "text": [
            "Downloading http://yann.lecun.com/exdb/mnist/train-images-idx3-ubyte.gz to ./data/MNIST/raw/train-images-idx3-ubyte.gz\n"
          ],
          "name": "stdout"
        },
        {
          "output_type": "display_data",
          "data": {
            "application/vnd.jupyter.widget-view+json": {
              "model_id": "5234fdcd7c5349e3ae0d1338ae2f0f19",
              "version_minor": 0,
              "version_major": 2
            },
            "text/plain": [
              "HBox(children=(FloatProgress(value=1.0, bar_style='info', max=1.0), HTML(value='')))"
            ]
          },
          "metadata": {
            "tags": []
          }
        },
        {
          "output_type": "stream",
          "text": [
            "Extracting ./data/MNIST/raw/train-images-idx3-ubyte.gz to ./data/MNIST/raw\n",
            "Downloading http://yann.lecun.com/exdb/mnist/train-labels-idx1-ubyte.gz to ./data/MNIST/raw/train-labels-idx1-ubyte.gz\n"
          ],
          "name": "stdout"
        },
        {
          "output_type": "display_data",
          "data": {
            "application/vnd.jupyter.widget-view+json": {
              "model_id": "34f1a40f9cb140d48e6652bf5924fc41",
              "version_minor": 0,
              "version_major": 2
            },
            "text/plain": [
              "HBox(children=(FloatProgress(value=1.0, bar_style='info', max=1.0), HTML(value='')))"
            ]
          },
          "metadata": {
            "tags": []
          }
        },
        {
          "output_type": "stream",
          "text": [
            "Extracting ./data/MNIST/raw/train-labels-idx1-ubyte.gz to ./data/MNIST/raw\n",
            "Downloading http://yann.lecun.com/exdb/mnist/t10k-images-idx3-ubyte.gz to ./data/MNIST/raw/t10k-images-idx3-ubyte.gz\n"
          ],
          "name": "stdout"
        },
        {
          "output_type": "display_data",
          "data": {
            "application/vnd.jupyter.widget-view+json": {
              "model_id": "5ce513f5f392416094ac3b58191faf3f",
              "version_minor": 0,
              "version_major": 2
            },
            "text/plain": [
              "HBox(children=(FloatProgress(value=1.0, bar_style='info', max=1.0), HTML(value='')))"
            ]
          },
          "metadata": {
            "tags": []
          }
        },
        {
          "output_type": "stream",
          "text": [
            "Extracting ./data/MNIST/raw/t10k-images-idx3-ubyte.gz to ./data/MNIST/raw\n",
            "Downloading http://yann.lecun.com/exdb/mnist/t10k-labels-idx1-ubyte.gz to ./data/MNIST/raw/t10k-labels-idx1-ubyte.gz\n"
          ],
          "name": "stdout"
        },
        {
          "output_type": "display_data",
          "data": {
            "application/vnd.jupyter.widget-view+json": {
              "model_id": "541f7604e3e74d608968bd24844af980",
              "version_minor": 0,
              "version_major": 2
            },
            "text/plain": [
              "HBox(children=(FloatProgress(value=1.0, bar_style='info', max=1.0), HTML(value='')))"
            ]
          },
          "metadata": {
            "tags": []
          }
        },
        {
          "output_type": "stream",
          "text": [
            "Extracting ./data/MNIST/raw/t10k-labels-idx1-ubyte.gz to ./data/MNIST/raw\n",
            "Processing...\n",
            "Done!\n"
          ],
          "name": "stdout"
        },
        {
          "output_type": "stream",
          "text": [
            "/pytorch/torch/csrc/utils/tensor_numpy.cpp:141: UserWarning: The given NumPy array is not writeable, and PyTorch does not support non-writeable tensors. This means you can write to the underlying (supposedly non-writeable) NumPy array using the tensor. You may want to copy the array to protect its data or make it writeable before converting it to a tensor. This type of warning will be suppressed for the rest of this program.\n",
            "/usr/local/lib/python3.6/dist-packages/torchvision/datasets/mnist.py:45: UserWarning: train_labels has been renamed targets\n",
            "  warnings.warn(\"train_labels has been renamed targets\")\n",
            "/usr/local/lib/python3.6/dist-packages/torchvision/datasets/mnist.py:50: UserWarning: test_labels has been renamed targets\n",
            "  warnings.warn(\"test_labels has been renamed targets\")\n"
          ],
          "name": "stderr"
        }
      ]
    },
    {
      "cell_type": "markdown",
      "metadata": {
        "id": "OR0iGmrvNcZE",
        "colab_type": "text"
      },
      "source": [
        "**Dataset creation for train and target images**"
      ]
    },
    {
      "cell_type": "code",
      "metadata": {
        "id": "rnxexxjc17ZJ",
        "colab_type": "code",
        "colab": {
          "base_uri": "https://localhost:8080/",
          "height": 124
        },
        "outputId": "bb3578bc-d51d-43fe-c73d-03d3342748ca"
      },
      "source": [
        "MNIST_SIZE       = 28   # MNIST image size\n",
        "MNIST_NUM_CLASS  = 10   # Number of classes in MNIST (digits 0 to 9)\n",
        "IMAGE_SIZE       = 128  # Segmentation data image size we will create\n",
        "TRAIN_DATA_SIZE  = 5000 # Number of images in the whole train data\n",
        "TEST_DATA_SIZE   = 1000 # Number of images in the whole test  data\n",
        "\n",
        "# Create segmentation data set ... image, label, and weights\n",
        "def data_generation(big_image, big_label, num_digits=9, train=True):\n",
        "    source = trainset\n",
        "    source_labels = train_labels\n",
        "    if not train:\n",
        "        source = testset\n",
        "        source_labels = test_labels\n",
        "    \n",
        "    image_size = big_image.shape[0]\n",
        "    label = np.zeros([MNIST_SIZE]*2,dtype=np.float32)\n",
        "    temp_image = big_image\n",
        "    temp_image.fill(0)\n",
        "\n",
        "    for _ in range(num_digits):\n",
        "        index = np.random.randint(0,len(source))\n",
        "        image = source[index]\n",
        "        image = image.reshape([MNIST_SIZE]*2)\n",
        "\n",
        "\n",
        "        label.fill(10)\n",
        "        label_val = source_labels[index]\n",
        "        label[np.where(image>0)] = label_val\n",
        "\n",
        "        for _ in range(200):\n",
        "          x_pos = int(np.random.randint(0,image_size-MNIST_SIZE))\n",
        "          y_pos = int(np.random.randint(0,image_size-MNIST_SIZE))\n",
        "          if np.sum(temp_image[x_pos:x_pos+MNIST_SIZE,y_pos:y_pos+MNIST_SIZE]) == 0:\n",
        "             temp_image[x_pos:x_pos+MNIST_SIZE,y_pos:y_pos+MNIST_SIZE] = np.ones((28,28))\n",
        "             break\n",
        "        big_image[x_pos:x_pos+MNIST_SIZE,y_pos:y_pos+MNIST_SIZE] += image\n",
        "   \n",
        "        label_crop = big_label[x_pos:x_pos+MNIST_SIZE,y_pos:y_pos+MNIST_SIZE]\n",
        "        label_crop[label<label_crop] = label_val\n",
        "\n",
        "# Create a whole segmentation data set for train/test\n",
        "def segment_data(data_size=5500,image_size=128,num_digits=9,train=True):\n",
        "    print('Generating {data_size} images...'.format(data_size=data_size))  \n",
        "    images  = np.zeros([data_size,image_size,image_size],dtype=np.float32)\n",
        "    labels  = np.zeros([data_size,image_size,image_size],dtype=np.int64)\n",
        "    labels.fill(10)\n",
        "    for _ in range(data_size):\n",
        "        image  = images  [_]\n",
        "        label  = labels  [_]\n",
        "        data_generation(image,label,num_digits,train=train)\n",
        "    print('done!')\n",
        "    return images, labels\n",
        "\n",
        "\n",
        "train_images, train_la = segment_data(TRAIN_DATA_SIZE, train=True)\n",
        "val_images, val_la = segment_data(200, train=True)\n",
        "test_images,  test_la  = segment_data(TEST_DATA_SIZE,  train=False)"
      ],
      "execution_count": null,
      "outputs": [
        {
          "output_type": "stream",
          "text": [
            "Generating 5000 images...\n",
            "done!\n",
            "Generating 200 images...\n",
            "done!\n",
            "Generating 1000 images...\n",
            "done!\n"
          ],
          "name": "stdout"
        }
      ]
    },
    {
      "cell_type": "code",
      "metadata": {
        "id": "yvkKYxheFjh-",
        "colab_type": "code",
        "colab": {
          "base_uri": "https://localhost:8080/",
          "height": 356
        },
        "outputId": "08167cec-6420-4aa9-b25e-fd58b32a89e2"
      },
      "source": [
        "## Visualize a random entry\n",
        "index = np.random.randint(0,len(val_images))\n",
        "fig,(ax1,ax2)=plt.subplots(1,2,figsize=(12,12),facecolor='w')\n",
        "ax1.imshow(val_images[index],  interpolation='none',cmap='gray')\n",
        "ax2.imshow(val_la[index],  interpolation='none',cmap='jet')\n",
        "ax1.axis('off')\n",
        "ax2.axis('off')\n",
        "ax1.set_title('Image',fontsize=20)\n",
        "ax2.set_title('Label',fontsize=20)\n",
        "plt.show()"
      ],
      "execution_count": null,
      "outputs": [
        {
          "output_type": "display_data",
          "data": {
            "image/png": "[encoded data removed]",
            "text/plain": [
              "<Figure size 864x864 with 2 Axes>"
            ]
          },
          "metadata": {
            "tags": []
          }
        }
      ]
    },
    {
      "cell_type": "markdown",
      "metadata": {
        "colab_type": "text",
        "id": "jrWvRdMcQ1bw"
      },
      "source": [
        "**Images to dataloader pytorch**"
      ]
    },
    {
      "cell_type": "code",
      "metadata": {
        "colab_type": "code",
        "id": "n4Y_3tpueX1X",
        "colab": {}
      },
      "source": [
        "#Covert Numpy to tensorflow\n",
        "traindataset = torch.utils.data.TensorDataset(torch.Tensor(train_images),torch.Tensor(train_la))\n",
        "valdataset = torch.utils.data.TensorDataset(torch.Tensor(val_images),torch.Tensor(val_la))\n",
        "testdataset = torch.utils.data.TensorDataset(torch.Tensor(test_images),torch.Tensor(test_la))\n",
        "\n",
        "image_datasets = {'train': traindataset, 'val': valdataset}\n",
        "\n",
        "batch_size = 25\n",
        "\n",
        "# creating data loader for train, val and test\n",
        "dataloaders = {\n",
        "    'train': torch.utils.data.DataLoader(traindataset, batch_size=batch_size, shuffle=True, num_workers=0),\n",
        "    'val': torch.utils.data.DataLoader(valdataset, batch_size=1, shuffle=True, num_workers=0),\n",
        "    'test' : torch.utils.data.DataLoader(testdataset,batch_size=1, shuffle=True, num_workers=0)\n",
        "}"
      ],
      "execution_count": null,
      "outputs": []
    },
    {
      "cell_type": "markdown",
      "metadata": {
        "id": "yKldrvUnSahs",
        "colab_type": "text"
      },
      "source": [
        "# **Model creation**#\n",
        "\n",
        "**Input size of image** : (1, 128, 128)\n",
        "\n",
        "**Input type** : Tensor\n",
        "\n",
        "**Output size of image** : (11, 128, 128) -> **Channel information:** pedestrian and background\n",
        "\n",
        "**List of Unet models created for studies. Categorised based on parameters**\n",
        "\n",
        "*   unet_7M_mnist - 7,782,978 parameters\n",
        "*   unet_3M_mnist - 3,873,986 parameters\n",
        "*   unet_100k_mnist - 138000 parameters \n",
        "*   unet_78k_mnist - 78,802 parameters\n",
        "*   unet_16k_mnist - 16,178 parameters\n"
      ]
    },
    {
      "cell_type": "markdown",
      "metadata": {
        "id": "ma6Qj8jTjnNv",
        "colab_type": "text"
      },
      "source": [
        "**Models 7M Parameters**"
      ]
    },
    {
      "cell_type": "code",
      "metadata": {
        "id": "U81ZZNNwQ_r9",
        "colab_type": "code",
        "colab": {
          "base_uri": "https://localhost:8080/",
          "height": 35
        },
        "outputId": "b443a1d1-f0fd-4e48-acff-accb7f4e10ae"
      },
      "source": [
        "def double_conv(in_channels, out_channels):\n",
        "    return nn.Sequential(\n",
        "        nn.Conv2d(in_channels, out_channels, 3, padding=1),\n",
        "        nn.ReLU(),\n",
        "        nn.Conv2d(out_channels, out_channels, 3, padding=1),\n",
        "        nn.ReLU()\n",
        "    )   \n",
        "\n",
        "def upsample_conv(in_channels):\n",
        "  return nn.ConvTranspose2d(in_channels, in_channels, 2, stride=2, padding=0)\n",
        "\n",
        "class unet_7M_mnist(nn.Module):\n",
        "\n",
        "    def __init__(self, n_class):\n",
        "        super().__init__()\n",
        "                \n",
        "        self.dconv_down1 = double_conv(1, 64)\n",
        "        self.dconv_down2 = double_conv(64, 128)\n",
        "        self.dconv_down3 = double_conv(128, 256)\n",
        "        self.dconv_down4 = double_conv(256, 512)        \n",
        "\n",
        "        self.maxpool = nn.MaxPool2d(2, stride=2)\n",
        "        self.upsample = nn.Upsample(scale_factor=2, mode='bilinear', align_corners=True)        \n",
        "        #self.upsample1 = upsample_conv(10)\n",
        "\n",
        "        self.dconv_up3 = double_conv(256 + 512, 256)\n",
        "        self.dconv_up2 = double_conv(128 + 256, 128)\n",
        "        self.dconv_up1 = double_conv(128 + 64, 64)\n",
        "        \n",
        "        self.conv_last = nn.Conv2d(64, n_class,1, stride=1)\n",
        "\n",
        "    def upsample_conv(in_channels):\n",
        "        return nn.ConvTranspose2d(in_channels, in_channels, 2, stride=2, padding=0)\n",
        "        \n",
        "        \n",
        "    def forward(self, x):\n",
        "        conv1 = self.dconv_down1(x)\n",
        "        x = self.maxpool(conv1)\n",
        "\n",
        "        conv2 = self.dconv_down2(x)\n",
        "        x = self.maxpool(conv2)\n",
        "        \n",
        "        conv3 = self.dconv_down3(x)\n",
        "        x = self.maxpool(conv3)   \n",
        "        \n",
        "        x = self.dconv_down4(x)\n",
        "        \n",
        "        x = self.upsample(x)\n",
        "        #x = self.upsample_conv(x.shape[1])        \n",
        "        x = torch.cat([x, conv3], dim=1)\n",
        "        \n",
        "        x = self.dconv_up3(x)\n",
        "        x = self.upsample(x)\n",
        "        #x = self.upsample_conv(x.shape[1])        \n",
        "        x = torch.cat([x, conv2], dim=1)       \n",
        "\n",
        "        x = self.dconv_up2(x)\n",
        "        x = self.upsample(x)\n",
        "        #x = self.upsample_conv(x.shape[1])         \n",
        "        x = torch.cat([x, conv1], dim=1)   \n",
        "        \n",
        "        x = self.dconv_up1(x)\n",
        "        \n",
        "        out = self.conv_last(x)\n",
        "        #out = self.softmax(out)\n",
        "        \n",
        "        return out\n",
        "\n",
        "# Checking the GPU availability\n",
        "gpu_available = torch.cuda.is_available() #checking GPU availability\n",
        "print(\"GPU available: \" + str(gpu_available))\n",
        "\n",
        "n_class = 11\n",
        "Unet = unet_7M_mnist(n_class) \n",
        "if gpu_available:\n",
        "    unet = Unet.cuda()"
      ],
      "execution_count": null,
      "outputs": [
        {
          "output_type": "stream",
          "text": [
            "GPU available: True\n"
          ],
          "name": "stdout"
        }
      ]
    },
    {
      "cell_type": "markdown",
      "metadata": {
        "id": "Q7pqZTNLcw_V",
        "colab_type": "text"
      },
      "source": [
        "**Models 3M Parameters**"
      ]
    },
    {
      "cell_type": "code",
      "metadata": {
        "id": "SyMseWTZcvdc",
        "colab_type": "code",
        "colab": {
          "base_uri": "https://localhost:8080/",
          "height": 35
        },
        "outputId": "ffda2a2c-e5b6-4c7d-c496-3bc23b3dc0c6"
      },
      "source": [
        "def double_conv(in_channels, out_channels):\n",
        "    return nn.Sequential(\n",
        "        nn.Conv2d(in_channels, out_channels, 3, padding=1),\n",
        "        nn.ReLU(),\n",
        "    )   \n",
        "\n",
        "def upsample_conv(in_channels):\n",
        "  return nn.ConvTranspose2d(in_channels, in_channels, 2, stride=2, padding=0)\n",
        "\n",
        "class unet_3M_mnist(nn.Module):\n",
        "\n",
        "    def __init__(self, n_class):\n",
        "        super().__init__()\n",
        "                \n",
        "        self.dconv_down1 = double_conv(1, 64)\n",
        "        self.dconv_down2 = double_conv(64, 128)\n",
        "        self.dconv_down3 = double_conv(128, 256)\n",
        "        self.dconv_down4 = double_conv(256, 512)        \n",
        "\n",
        "        self.maxpool = nn.MaxPool2d(2, stride=2)\n",
        "        self.upsample = nn.Upsample(scale_factor=2, mode='bilinear', align_corners=True)        \n",
        "        #self.upsample1 = upsample_conv(10)\n",
        "\n",
        "        self.dconv_up3 = double_conv(256 + 512, 256)\n",
        "        self.dconv_up2 = double_conv(128 + 256, 128)\n",
        "        self.dconv_up1 = double_conv(128 + 64, 64)\n",
        "        \n",
        "        self.conv_last = nn.Conv2d(64, n_class,1, stride=1)\n",
        "\n",
        "    def upsample_conv(in_channels):\n",
        "        return nn.ConvTranspose2d(in_channels, in_channels, 2, stride=2, padding=0)\n",
        "        \n",
        "        \n",
        "    def forward(self, x):\n",
        "        conv1 = self.dconv_down1(x)\n",
        "        x = self.maxpool(conv1)\n",
        "\n",
        "        conv2 = self.dconv_down2(x)\n",
        "        x = self.maxpool(conv2)\n",
        "        \n",
        "        conv3 = self.dconv_down3(x)\n",
        "        x = self.maxpool(conv3)   \n",
        "        \n",
        "        x = self.dconv_down4(x)\n",
        "        \n",
        "        x = self.upsample(x)\n",
        "        #x = self.upsample_conv(x.shape[1])        \n",
        "        x = torch.cat([x, conv3], dim=1)\n",
        "        \n",
        "        x = self.dconv_up3(x)\n",
        "        x = self.upsample(x)\n",
        "        #x = self.upsample_conv(x.shape[1])        \n",
        "        x = torch.cat([x, conv2], dim=1)       \n",
        "\n",
        "        x = self.dconv_up2(x)\n",
        "        x = self.upsample(x)\n",
        "        #x = self.upsample_conv(x.shape[1])         \n",
        "        x = torch.cat([x, conv1], dim=1)   \n",
        "        \n",
        "        x = self.dconv_up1(x)\n",
        "        \n",
        "        out = self.conv_last(x)\n",
        "        #out = self.softmax(out)\n",
        "        \n",
        "        return out\n",
        "\n",
        "# Checking the GPU availability\n",
        "gpu_available = torch.cuda.is_available() #checking GPU availability\n",
        "print(\"GPU available: \" + str(gpu_available))\n",
        "\n",
        "n_class = 11\n",
        "Unet = unet_3M_mnist(n_class) \n",
        "if gpu_available:\n",
        "    unet = Unet.cuda()\n"
      ],
      "execution_count": null,
      "outputs": [
        {
          "output_type": "stream",
          "text": [
            "GPU available: True\n"
          ],
          "name": "stdout"
        }
      ]
    },
    {
      "cell_type": "markdown",
      "metadata": {
        "id": "eoBh8wS4dSKW",
        "colab_type": "text"
      },
      "source": [
        "**Models 100k parameters**\n"
      ]
    },
    {
      "cell_type": "code",
      "metadata": {
        "id": "QFBOnzCL4eNT",
        "colab_type": "code",
        "colab": {
          "base_uri": "https://localhost:8080/",
          "height": 35
        },
        "outputId": "170b8f80-afa6-4f96-80c2-8062a961dfc8"
      },
      "source": [
        "# Defining the unet for Mnist toy dataset>>> Input 128*128*1\n",
        "class unet_100k_mnist(nn.Module):\n",
        "  def __init__(self, n_class):\n",
        "    super(unet_100k_mnist,self).__init__()\n",
        "\n",
        "    #Encoder\n",
        "    self.contractinglayer1 = nn.Sequential(nn.Conv2d(1, 16, 3, stride=1, padding=1, dilation=1), nn.ReLU(), nn.Conv2d(16, 16, 3, stride=1, padding=1, dilation=1), nn.ReLU())\n",
        "    self.contractinglayer2 = nn.Sequential(nn.Conv2d(16, 32, 3, stride=1, padding=1, dilation=1), nn.ReLU(), nn.Conv2d(32, 32, 3, stride=1, padding=1, dilation=1), nn.ReLU())\n",
        "    self.contractinglayer3 = nn.Sequential(nn.Conv2d(32, 64, 3, stride=1, padding=1, dilation=1), nn.ReLU(), nn.Conv2d(64, 64, 3, stride=1, padding=1, dilation=1), nn.ReLU())\n",
        "    self.downsampling = nn.MaxPool2d(2)\n",
        "\n",
        "    #Decoder\n",
        "    self.upsampling_3to2 = nn.ConvTranspose2d(64, 64, 2,stride=2, padding=0, dilation=1)\n",
        "    self.explayer4 = nn.Sequential(nn.Conv2d(64+32, 32, 3, stride=1, padding=1, dilation=1), nn.ReLU(), nn.Conv2d(32, 32, 3, stride=1, padding=1, dilation=1), nn.ReLU())\n",
        "    self.upsampling_2to1 = nn.ConvTranspose2d(32, 32, 2,stride=2, padding=0, dilation=1)\n",
        "    self.explayer5 = nn.Sequential(nn.Conv2d(32+16, 16, 3, stride=1, padding=1, dilation=1), nn.ReLU(), nn.Conv2d(16, 16, 3, stride=1, padding=1, dilation=1), nn.ReLU())\n",
        "    self.output_conv = nn.Conv2d(16, n_class, 1, stride=1)\n",
        "    #self.softmax = nn.LogSoftmax(dim=1)\n",
        "\n",
        "  def forward(self, x):\n",
        "      #x = x.view(-1, 128 * 128)\n",
        "      x1 = self.contractinglayer1(x)\n",
        "      x2 = self.downsampling(x1)\n",
        "      x3 = self.contractinglayer2(x2)\n",
        "      x4 = self.downsampling(x3)\n",
        "      x5 = self.contractinglayer3(x4)\n",
        "      x6 = torch.cat([self.upsampling_3to2(x5,output_size=x3.size()), x3], dim=1)\n",
        "      x7 = self.explayer4(x6)\n",
        "      x8 = torch.cat([self.upsampling_2to1(x7,output_size=x1.size()), x1], dim=1)\n",
        "      x9 = self.explayer5(x8)\n",
        "      x10 = self.output_conv(x9)\n",
        "      return x10   \n",
        "\n",
        "# Checking the GPU availability\n",
        "gpu_available = torch.cuda.is_available() #checking GPU availability\n",
        "print(\"GPU available: \" + str(gpu_available))\n",
        "n_class = 11\n",
        "Unet = unet_100k_mnist(n_class) \n",
        "if gpu_available:\n",
        "    unet = Unet.cuda()"
      ],
      "execution_count": null,
      "outputs": [
        {
          "output_type": "stream",
          "text": [
            "GPU available: True\n"
          ],
          "name": "stdout"
        }
      ]
    },
    {
      "cell_type": "markdown",
      "metadata": {
        "id": "FFZk6piwMPMi",
        "colab_type": "text"
      },
      "source": [
        "**Model 78k parameters**\n"
      ]
    },
    {
      "cell_type": "code",
      "metadata": {
        "id": "PrkUbtKsMGa-",
        "colab_type": "code",
        "colab": {
          "base_uri": "https://localhost:8080/",
          "height": 35
        },
        "outputId": "4bee1242-44ec-4a1f-8108-133026143477"
      },
      "source": [
        "# Defining the unet for Mnist toy dataset>>> Input 128*128*1\n",
        "class unet_78k_mnist(nn.Module):\n",
        "  def __init__(self, n_class):\n",
        "    super(unet_78k_mnist,self).__init__()\n",
        "\n",
        "    #Encoder\n",
        "    self.contractinglayer1 = nn.Sequential(nn.Conv2d(1, 16, 3, stride=1, padding=1, dilation=1), nn.ReLU())\n",
        "    self.contractinglayer2 = nn.Sequential(nn.Conv2d(16, 32, 3, stride=1, padding=1, dilation=1), nn.ReLU())\n",
        "    self.contractinglayer3 = nn.Sequential(nn.Conv2d(32, 64, 3, stride=1, padding=1, dilation=1), nn.ReLU())\n",
        "    self.downsampling = nn.MaxPool2d(2)\n",
        "\n",
        "    #Decoder\n",
        "    self.upsampling_3to2 = nn.ConvTranspose2d(64, 64, 2,stride=2, padding=0, dilation=1)\n",
        "    self.explayer4 = nn.Sequential(nn.Conv2d(64+32, 32, 3, stride=1, padding=1, dilation=1), nn.ReLU())\n",
        "    self.upsampling_2to1 = nn.ConvTranspose2d(32, 32, 2,stride=2, padding=0, dilation=1)\n",
        "    self.explayer5 = nn.Sequential(nn.Conv2d(32+16, 16, 3, stride=1, padding=1, dilation=1), nn.ReLU())\n",
        "    self.output_conv = nn.Conv2d(16, n_class, 1, stride=1)\n",
        "    #self.softmax = nn.LogSoftmax(dim=1)\n",
        "\n",
        "  def forward(self, x):\n",
        "      #x = x.view(-1, 128 * 128)\n",
        "      x1 = self.contractinglayer1(x)\n",
        "      x2 = self.downsampling(x1)\n",
        "      x3 = self.contractinglayer2(x2)\n",
        "      x4 = self.downsampling(x3)\n",
        "      x5 = self.contractinglayer3(x4)\n",
        "      x6 = torch.cat([self.upsampling_3to2(x5,output_size=x3.size()), x3], dim=1)\n",
        "      x7 = self.explayer4(x6)\n",
        "      x8 = torch.cat([self.upsampling_2to1(x7,output_size=x1.size()), x1], dim=1)\n",
        "      x9 = self.explayer5(x8)\n",
        "      x10 = self.output_conv(x9)\n",
        "      #x11 = self.softmax(x10)\n",
        "      return x10   \n",
        "\n",
        "# Checking the GPU availability\n",
        "gpu_available = torch.cuda.is_available() #checking GPU availability\n",
        "print(\"GPU available: \" + str(gpu_available))\n",
        "n_class = 11\n",
        "Unet = unet_78k_mnist(n_class) \n",
        "if gpu_available:\n",
        "    unet = Unet.cuda()"
      ],
      "execution_count": null,
      "outputs": [
        {
          "output_type": "stream",
          "text": [
            "GPU available: True\n"
          ],
          "name": "stdout"
        }
      ]
    },
    {
      "cell_type": "markdown",
      "metadata": {
        "id": "L2Tv916Sdo47",
        "colab_type": "text"
      },
      "source": [
        "**Model 16k parameters**"
      ]
    },
    {
      "cell_type": "code",
      "metadata": {
        "id": "ZiF8s0j8KTLb",
        "colab_type": "code",
        "colab": {
          "base_uri": "https://localhost:8080/",
          "height": 35
        },
        "outputId": "b86810ba-f3c6-48e4-db49-603774759ac6"
      },
      "source": [
        "# Defining the unet for Mnist toy dataset>>> Input 128*128*1\n",
        "class unet_16k_mnist(nn.Module):\n",
        "  def __init__(self, n_class):\n",
        "    super(unet_16k_mnist,self).__init__()\n",
        "\n",
        "    #Encoder\n",
        "    self.contractinglayer1 = nn.Sequential(nn.Conv2d(1, 16, 3, stride=1, padding=1, dilation=1), nn.ReLU())\n",
        "    self.contractinglayer2 = nn.Sequential(nn.Conv2d(16, 32, 3, stride=1, padding=1, dilation=1), nn.ReLU())\n",
        "    #self.contractinglayer3 = nn.Sequential(nn.Conv2d(32, 64, 3, stride=1, padding=1, dilation=1), nn.ReLU())\n",
        "    self.downsampling = nn.MaxPool2d(2)\n",
        "\n",
        "    #Decoder\n",
        "    #self.upsampling_3to2 = nn.ConvTranspose2d(64, 64, 2,stride=2, padding=0, dilation=1)\n",
        "    #self.explayer4 = nn.Sequential(nn.Conv2d(64+32, 32, 3, stride=1, padding=1, dilation=1), nn.ReLU())\n",
        "    self.upsampling_2to1 = nn.ConvTranspose2d(32, 32, 2,stride=2, padding=0, dilation=1)\n",
        "    self.explayer5 = nn.Sequential(nn.Conv2d(32+16, 16, 3, stride=1, padding=1, dilation=1), nn.ReLU())\n",
        "    self.output_conv = nn.Conv2d(16, n_class, 1, stride=1)\n",
        "    #self.softmax = nn.LogSoftmax(dim=1)\n",
        "\n",
        "  def forward(self, x):\n",
        "      #x = x.view(-1, 128 * 128)\n",
        "      x1 = self.contractinglayer1(x)\n",
        "      x2 = self.downsampling(x1)\n",
        "      x3 = self.contractinglayer2(x2)\n",
        "      #x4 = self.downsampling(x3)\n",
        "      #x5 = self.contractinglayer3(x4)\n",
        "      #x6 = torch.cat([self.upsampling_3to2(x5,output_size=x3.size()), x3], dim=1)\n",
        "      #x7 = self.explayer4(x6)\n",
        "      x5 = torch.cat([self.upsampling_2to1(x3,output_size=x1.size()), x1], dim=1)\n",
        "      x6 = self.explayer5(x5)\n",
        "      x7 = self.output_conv(x6)\n",
        "      #x11 = self.softmax(x10)\n",
        "      return x7   \n",
        "\n",
        "# Checking the GPU availability\n",
        "gpu_available = torch.cuda.is_available() #checking GPU availability\n",
        "print(\"GPU available: \" + str(gpu_available))\n",
        "n_class = 11\n",
        "Unet = unet_16k_mnist(n_class) \n",
        "if gpu_available:\n",
        "    unet = Unet.cuda()"
      ],
      "execution_count": null,
      "outputs": [
        {
          "output_type": "stream",
          "text": [
            "GPU available: True\n"
          ],
          "name": "stdout"
        }
      ]
    },
    {
      "cell_type": "markdown",
      "metadata": {
        "id": "1pT0ApanFJ_Z",
        "colab_type": "text"
      },
      "source": [
        "# **Information to be set**\n",
        "\n",
        "Requires input from the user"
      ]
    },
    {
      "cell_type": "code",
      "metadata": {
        "id": "wfMgSTnNcA_A",
        "colab_type": "code",
        "colab": {}
      },
      "source": [
        "picking_architecture = 0 #user input to choose architecture\n",
        "num_epochs =50 # enter number of epochs\n",
        "\n",
        "unetslist = [unet_7M_mnist(n_class),unet_3M_mnist(n_class),unet_100k_mnist(n_class),unet_78k_mnist(n_class),unet_16k_mnist(n_class)] # to select the model to train\n",
        "unetsavelist = [\"unet_7M_mnist.pth\",\"unet_3M_mnist.pth\",\"unet_100k_mnist.pth\",\"unet_78k_mnist.pth\",\"unet_16k_mnist.pth\"] # to save the model"
      ],
      "execution_count": null,
      "outputs": []
    },
    {
      "cell_type": "markdown",
      "metadata": {
        "id": "z31m_r5bdCdr",
        "colab_type": "text"
      },
      "source": [
        "**Function for splitting the masking labels to channel required for training**"
      ]
    },
    {
      "cell_type": "code",
      "metadata": {
        "id": "P3z1-9979Ii1",
        "colab_type": "code",
        "colab": {}
      },
      "source": [
        "def label_split(labels,targetimage,n_class):\n",
        "  for i in range(n_class):\n",
        "    if i==0:\n",
        "      labels[:,0,:,:] = (targetimage== 0)==1\n",
        "    else:\n",
        "        labels[:,i,:,:] = (targetimage!= i)==0\n",
        "  return labels\n"
      ],
      "execution_count": null,
      "outputs": []
    },
    {
      "cell_type": "markdown",
      "metadata": {
        "id": "Jnjm0cUjj5N3",
        "colab_type": "text"
      },
      "source": [
        "# **Loss function**\n",
        "\n",
        "**Using Dice loss with BCE loss**"
      ]
    },
    {
      "cell_type": "markdown",
      "metadata": {
        "id": "ExZ4gPYGYM17",
        "colab_type": "text"
      },
      "source": [
        "**Dice loss function**"
      ]
    },
    {
      "cell_type": "code",
      "metadata": {
        "id": "yzpfCfkcRd3j",
        "colab_type": "code",
        "colab": {}
      },
      "source": [
        "def dice_loss(pred, target, smooth = 1.):\n",
        "    pred = pred.contiguous()\n",
        "    target = target.contiguous()    \n",
        "\n",
        "    intersection = (pred * target).sum(dim=2).sum(dim=2)\n",
        "    \n",
        "    loss = (1 - ((2. * intersection + smooth) / (pred.sum(dim=2).sum(dim=2) + target.sum(dim=2).sum(dim=2) + smooth)))\n",
        "    \n",
        "    return loss.mean()"
      ],
      "execution_count": null,
      "outputs": []
    },
    {
      "cell_type": "markdown",
      "metadata": {
        "id": "kaepz1JjYQ07",
        "colab_type": "text"
      },
      "source": [
        "**IOU loss function**"
      ]
    },
    {
      "cell_type": "code",
      "metadata": {
        "id": "PQpNsf7aAnhe",
        "colab_type": "code",
        "colab": {}
      },
      "source": [
        "def iou(pred, target, smooth = 1.):\n",
        "    pred = pred.contiguous()\n",
        "    target = target.contiguous()    \n",
        "\n",
        "    intersection = (pred * target).sum(dim=2).sum(dim=2)\n",
        "    \n",
        "    iou1 = ((intersection + smooth) / (pred.sum(dim=2).sum(dim=2) + target.sum(dim=2).sum(dim=2) + smooth - intersection))\n",
        "    \n",
        "    return iou1.mean()"
      ],
      "execution_count": null,
      "outputs": []
    },
    {
      "cell_type": "markdown",
      "metadata": {
        "id": "6xJac6zaYbFU",
        "colab_type": "text"
      },
      "source": [
        "**Combining Dice loss with Binary cross entropy loss**"
      ]
    },
    {
      "cell_type": "code",
      "metadata": {
        "id": "nMhztlQmR6ar",
        "colab_type": "code",
        "colab": {}
      },
      "source": [
        "from collections import defaultdict\n",
        "dtype = torch.cuda.FloatTensor if torch.cuda.is_available() else torch.FloatTensor\n",
        "\n",
        "#from loss import dice_loss\n",
        "\n",
        "def calc_loss(pred, target, bce_weight=0.5):\n",
        "    bce = F.binary_cross_entropy_with_logits(pred, target).type(dtype)\n",
        "\n",
        "    pred = F.sigmoid(pred).type(dtype)\n",
        "    dice = dice_loss(pred, target)\n",
        "\n",
        "    loss = bce * bce_weight + dice * (1 - bce_weight)\n",
        "\n",
        "    return loss\n",
        "\n",
        "def print_metrics(metrics, epoch_samples, phase):\n",
        "    outputs = []\n",
        "    for k in metrics.keys():\n",
        "        outputs.append(\"{}: {:4f}\".format(k, metrics[k] / epoch_samples))\n",
        "\n",
        "    print(\"{}: {}\".format(phase, \", \".join(outputs)))\n",
        "\n"
      ],
      "execution_count": null,
      "outputs": []
    },
    {
      "cell_type": "markdown",
      "metadata": {
        "id": "uJ1H4mNBkA-s",
        "colab_type": "text"
      },
      "source": [
        "# **Optimizer**"
      ]
    },
    {
      "cell_type": "code",
      "metadata": {
        "id": "S9sX63CrSI2x",
        "colab_type": "code",
        "colab": {
          "base_uri": "https://localhost:8080/",
          "height": 35
        },
        "outputId": "3bbf4ec5-2630-4889-8ddb-b11307d6989c"
      },
      "source": [
        "#Training\n",
        "\n",
        "running_loss = 0.0\n",
        "device = torch.device(\"cuda:0\" if torch.cuda.is_available() else \"cpu\")\n",
        "print(device)\n",
        "n_class = 11\n",
        "unet = unetslist[picking_architecture]\n",
        "gpu_available = torch.cuda.is_available() \n",
        "if gpu_available:\n",
        "    unet = unet.cuda()\n",
        "\n",
        "\n",
        "model = unet\n",
        "\n",
        "\n",
        "optimizer = optim.Adam(filter(lambda p: p.requires_grad, model.parameters()), lr=1e-4)\n",
        "scheduler = lr_scheduler.StepLR(optimizer, step_size=30, gamma=0.1)\n"
      ],
      "execution_count": null,
      "outputs": [
        {
          "output_type": "stream",
          "text": [
            "cuda:0\n"
          ],
          "name": "stdout"
        }
      ]
    },
    {
      "cell_type": "markdown",
      "metadata": {
        "id": "RiGwTqVWZfHd",
        "colab_type": "text"
      },
      "source": [
        "# **Training**"
      ]
    },
    {
      "cell_type": "code",
      "metadata": {
        "id": "b0rCoOMp8RJ5",
        "colab_type": "code",
        "colab": {}
      },
      "source": [
        "    loss_values =[]\n",
        "\n",
        "    for epoch in range(num_epochs):\n",
        "        print('Epoch {}/{}'.format(epoch, num_epochs - 1))\n",
        "        print('-' * 10)\n",
        "\n",
        "        since = time.time()\n",
        "\n",
        "        # Each epoch has a training and validation phase\n",
        "        for phase in ['train', 'val']:\n",
        "            if phase == 'train':\n",
        "                scheduler.step()\n",
        "                for param_group in optimizer.param_groups:\n",
        "                    print(\"LR\", param_group['lr'])\n",
        "\n",
        "                model.train()  # Set model to training mode\n",
        "            else:\n",
        "                model.eval()   # Set model to evaluate mode\n",
        "\n",
        "            #metrics = defaultdict(float)\n",
        "            epoch_samples = 0\n",
        "\n",
        "            for i, data in enumerate(dataloaders[phase]):\n",
        "                inputs, targetimage = data\n",
        "                inputs = inputs.unsqueeze(1).to(device)\n",
        "\n",
        "                # zero the parameter gradients\n",
        "                optimizer.zero_grad()\n",
        "\n",
        "                # forward\n",
        "                # track history if only in train\n",
        "                with torch.set_grad_enabled(phase == 'train'):\n",
        "                    outputs = model(inputs)\n",
        "                    lab_channel = torch.empty_like(outputs)\n",
        "                    lab_channel = label_split(lab_channel, targetimage, n_class).cuda()\n",
        "                    loss = calc_loss(outputs, lab_channel)\n",
        "\n",
        "                    # backward + optimize only if in training phase\n",
        "                    if phase == 'train':\n",
        "                        loss.backward()\n",
        "                        optimizer.step()\n",
        "\n",
        "                # statistics\n",
        "                epoch_samples += inputs.size(0)\n",
        "                running_loss += loss.item()\n",
        "                if i % 10 == 9:    \n",
        "                  print('[%d] loss: %.3f',(epoch + 1, running_loss / 100))\n",
        "                  loss_values.append(running_loss / len(trainset))\n",
        "                  running_loss = 0.0\n",
        "\n",
        "        \n",
        "        time_elapsed = time.time() - since\n",
        "        print('{:.0f}m {:.0f}s'.format(time_elapsed // 60, time_elapsed % 60))\n"
      ],
      "execution_count": null,
      "outputs": []
    },
    {
      "cell_type": "markdown",
      "metadata": {
        "id": "MDkeWoLJZ7Hf",
        "colab_type": "text"
      },
      "source": [
        "**Dont run the save command if the training is not performed**"
      ]
    },
    {
      "cell_type": "code",
      "metadata": {
        "id": "PVzGOjmXeCdK",
        "colab_type": "code",
        "colab": {
          "base_uri": "https://localhost:8080/",
          "height": 126
        },
        "outputId": "17062e8a-74c9-42f7-e4a1-cd3888effd00"
      },
      "source": [
        "# Linking the google colab\n",
        "from google.colab import drive\n",
        "drive.mount('/content/drive')"
      ],
      "execution_count": null,
      "outputs": [
        {
          "output_type": "stream",
          "text": [
            "Go to this URL in a browser: https://accounts.google.com/o/oauth2/auth?client_id=947318989803-6bn6qk8qdgf4n4g3pfee6491hc0brc4i.apps.googleusercontent.com&redirect_uri=urn%3aietf%3awg%3aoauth%3a2.0%3aoob&response_type=code&scope=email%20https%3a%2f%2fwww.googleapis.com%2fauth%2fdocs.test%20https%3a%2f%2fwww.googleapis.com%2fauth%2fdrive%20https%3a%2f%2fwww.googleapis.com%2fauth%2fdrive.photos.readonly%20https%3a%2f%2fwww.googleapis.com%2fauth%2fpeopleapi.readonly\n",
            "\n",
            "Enter your authorization code:\n",
            "··········\n",
            "Mounted at /content/drive\n"
          ],
          "name": "stdout"
        }
      ]
    },
    {
      "cell_type": "code",
      "metadata": {
        "id": "Z6ZvCblvZ6eo",
        "colab_type": "code",
        "colab": {}
      },
      "source": [
        "torch.save(unet.state_dict(), os.path.join(\"/content/drive/My Drive/Dataset/mnist_segmentation\",unetsavelist[picking_architecture]))"
      ],
      "execution_count": null,
      "outputs": []
    },
    {
      "cell_type": "markdown",
      "metadata": {
        "id": "EOMjkA2-kKQx",
        "colab_type": "text"
      },
      "source": [
        "# **Testing**"
      ]
    },
    {
      "cell_type": "markdown",
      "metadata": {
        "id": "sr8OGI9CHeTZ",
        "colab_type": "text"
      },
      "source": [
        "**Load the pretrained dataset here if available**\n",
        "\n",
        "**Note:**\n",
        "\n",
        "* Ensure the directory is correct to search the .pth file\n",
        "* Ensure correct name for .pth file matching the choosen model architecture\n",
        "* If architecture matched we will see: **All keys matched successfully**"
      ]
    },
    {
      "cell_type": "code",
      "metadata": {
        "id": "Wfdg43xL9IjI",
        "colab_type": "code",
        "colab": {
          "base_uri": "https://localhost:8080/",
          "height": 34
        },
        "outputId": "3b52b5de-5a91-4e86-df1c-9002e36bcf09"
      },
      "source": [
        "unet.load_state_dict(torch.load(os.path.join(\"/content/drive/My Drive/Dataset/mnist_segmentation\",unetsavelist[picking_architecture])))"
      ],
      "execution_count": null,
      "outputs": [
        {
          "output_type": "execute_result",
          "data": {
            "text/plain": [
              "<All keys matched successfully>"
            ]
          },
          "metadata": {
            "tags": []
          },
          "execution_count": 100
        }
      ]
    },
    {
      "cell_type": "markdown",
      "metadata": {
        "id": "mZ2UjeNSaw7x",
        "colab_type": "text"
      },
      "source": [
        "**Checking the IOU for our test set**\n",
        "\n",
        "Change the Iou threshold if needed"
      ]
    },
    {
      "cell_type": "code",
      "metadata": {
        "id": "2BN4t7P_BR2u",
        "colab_type": "code",
        "colab": {
          "base_uri": "https://localhost:8080/",
          "height": 35
        },
        "outputId": "16020130-3280-40c2-83ff-8cd6cb0a938c"
      },
      "source": [
        "iou_threshold = [0.1,0.5,0.75,0.9]\n",
        "\n",
        "#Testing the Model\n",
        "accuracy_list = []\n",
        "for j,thres in enumerate(iou_threshold):\n",
        "  num = 0\n",
        "  tnum = 0\n",
        "  iou1 = 0\n",
        "  niou = 0\n",
        "  for i, data in enumerate(dataloaders['test']):\n",
        "    tnum = tnum + 1\n",
        "    inputs, targetimage = data\n",
        "    if gpu_available:\n",
        "      inputs = inputs.unsqueeze(1).cuda()\n",
        "    pred = model(inputs)\n",
        "    pred = torch.sigmoid(pred)\n",
        "    lab_channel = torch.empty_like(pred)\n",
        "    lab_channel = label_split(lab_channel, targetimage, n_class).cuda()\n",
        "    iou1= iou(pred, lab_channel)\n",
        "    if iou1 > thres:\n",
        "      num = num + 1\n",
        "\n",
        "\n",
        "  accuracy = (num / tnum) * 100;\n",
        "  accuracy_list.append(accuracy)\n",
        "\n",
        "print(\"Accuracy of the model is :\",accuracy_list)"
      ],
      "execution_count": null,
      "outputs": [
        {
          "output_type": "stream",
          "text": [
            "Accuracy of the model is : [100.0, 100.0, 99.8, 92.80000000000001]\n"
          ],
          "name": "stdout"
        }
      ]
    },
    {
      "cell_type": "markdown",
      "metadata": {
        "colab_type": "text",
        "id": "GpjdOPCqIi6p"
      },
      "source": [
        "**Visualising the predicted output**"
      ]
    },
    {
      "cell_type": "code",
      "metadata": {
        "id": "q8T5r-bzacNf",
        "colab_type": "code",
        "colab": {
          "base_uri": "https://localhost:8080/",
          "height": 284
        },
        "outputId": "6805cedf-c43a-48df-bd5f-f87887fec82b"
      },
      "source": [
        "import math\n",
        "\n",
        "# Get the first batch\n",
        "inputs1, targetimage = next(iter(dataloaders['val']))\n",
        "inputs = inputs1.unsqueeze(1).cuda()\n",
        "\n",
        "# Predict\n",
        "pred = model(inputs)\n",
        "\n",
        "# The loss functions include the sigmoid function.\n",
        "pred = torch.sigmoid(pred)\n",
        "pred_max = torch.argmax(pred, dim=1)\n",
        "\n",
        "\n",
        "print(pred.shape)\n",
        "print(targetimage.shape)\n",
        "\n",
        "\n",
        "#printing image\n",
        "fig,(ax1,ax2,ax3)=plt.subplots(1,3,figsize=(12,12),facecolor='w')\n",
        "ax1.imshow(pred_max.squeeze(0).cpu(),  interpolation='none',cmap='jet')\n",
        "ax2.imshow(targetimage.squeeze(0).cpu(),  interpolation='none',cmap='jet')\n",
        "ax3.imshow(inputs1.squeeze(0).cpu(),  interpolation='none',cmap='gray')\n",
        "ax1.axis('off')\n",
        "ax2.axis('off')\n",
        "ax3.axis('off')\n",
        "ax1.set_title('prediction',fontsize=20)\n",
        "ax2.set_title('Label',fontsize=20)\n",
        "ax3.set_title('Input',fontsize=20)\n",
        "plt.show()\n",
        "\n"
      ],
      "execution_count": null,
      "outputs": [
        {
          "output_type": "stream",
          "text": [
            "torch.Size([1, 11, 128, 128])\n",
            "torch.Size([1, 128, 128])\n"
          ],
          "name": "stdout"
        },
        {
          "output_type": "display_data",
          "data": {
            "image/png": "[encoded data removed]",
            "text/plain": [
              "<Figure size 864x864 with 3 Axes>"
            ]
          },
          "metadata": {
            "tags": []
          }
        }
      ]
    }
  ]
}